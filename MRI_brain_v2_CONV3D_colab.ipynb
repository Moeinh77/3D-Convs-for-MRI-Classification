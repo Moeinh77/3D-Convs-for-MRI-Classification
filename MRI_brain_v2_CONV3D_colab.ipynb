{
  "nbformat": 4,
  "nbformat_minor": 0,
  "metadata": {
    "accelerator": "GPU",
    "colab": {
      "name": "MRI_brain_v2_CONV3D_colab.ipynb",
      "provenance": [],
      "collapsed_sections": [],
      "toc_visible": true
    },
    "kernelspec": {
      "display_name": "Python 3",
      "language": "python",
      "name": "python3"
    },
    "language_info": {
      "codemirror_mode": {
        "name": "ipython",
        "version": 3
      },
      "file_extension": ".py",
      "mimetype": "text/x-python",
      "name": "python",
      "nbconvert_exporter": "python",
      "pygments_lexer": "ipython3",
      "version": "3.7.9"
    }
  },
  "cells": [
    {
      "cell_type": "markdown",
      "metadata": {
        "id": "78J78_UthZU7"
      },
      "source": [
        "* todo: add augmentation\n",
        "* todo: seperate the validation_generator from train_genarator after augmentation"
      ]
    },
    {
      "cell_type": "code",
      "metadata": {
        "colab": {
          "base_uri": "https://localhost:8080/"
        },
        "id": "P10DNOwlhe1u",
        "outputId": "00885ad6-5216-4314-9779-3619d70ef2b6"
      },
      "source": [
        "!wget http://biomedic.doc.ic.ac.uk/brain-development/downloads/IXI/IXI-T1.tar"
      ],
      "execution_count": 1,
      "outputs": [
        {
          "output_type": "stream",
          "text": [
            "--2021-06-01 16:12:27--  http://biomedic.doc.ic.ac.uk/brain-development/downloads/IXI/IXI-T1.tar\n",
            "Resolving biomedic.doc.ic.ac.uk (biomedic.doc.ic.ac.uk)... 146.169.22.31\n",
            "Connecting to biomedic.doc.ic.ac.uk (biomedic.doc.ic.ac.uk)|146.169.22.31|:80... connected.\n",
            "HTTP request sent, awaiting response... 301 Moved Permanently\n",
            "Location: https://biomedic.doc.ic.ac.uk/brain-development/downloads/IXI/IXI-T1.tar [following]\n",
            "--2021-06-01 16:12:27--  https://biomedic.doc.ic.ac.uk/brain-development/downloads/IXI/IXI-T1.tar\n",
            "Connecting to biomedic.doc.ic.ac.uk (biomedic.doc.ic.ac.uk)|146.169.22.31|:443... connected.\n",
            "HTTP request sent, awaiting response... 200 OK\n",
            "Length: 4840816640 (4.5G) [application/x-tar]\n",
            "Saving to: ‘IXI-T1.tar’\n",
            "\n",
            "IXI-T1.tar          100%[===================>]   4.51G  46.6MB/s    in 90s     \n",
            "\n",
            "2021-06-01 16:13:57 (51.5 MB/s) - ‘IXI-T1.tar’ saved [4840816640/4840816640]\n",
            "\n"
          ],
          "name": "stdout"
        }
      ]
    },
    {
      "cell_type": "code",
      "metadata": {
        "colab": {
          "base_uri": "https://localhost:8080/"
        },
        "id": "yP38dkXDhgaF",
        "outputId": "dc703535-b6ed-4516-a3fe-6c1f28634976"
      },
      "source": [
        "!wget http://biomedic.doc.ic.ac.uk/brain-development/downloads/IXI/IXI.xls"
      ],
      "execution_count": 2,
      "outputs": [
        {
          "output_type": "stream",
          "text": [
            "URL transformed to HTTPS due to an HSTS policy\n",
            "--2021-06-01 16:14:01--  https://biomedic.doc.ic.ac.uk/brain-development/downloads/IXI/IXI.xls\n",
            "Resolving biomedic.doc.ic.ac.uk (biomedic.doc.ic.ac.uk)... 146.169.22.31\n",
            "Connecting to biomedic.doc.ic.ac.uk (biomedic.doc.ic.ac.uk)|146.169.22.31|:443... connected.\n",
            "HTTP request sent, awaiting response... 200 OK\n",
            "Length: 210432 (206K) [application/vnd.ms-excel]\n",
            "Saving to: ‘IXI.xls’\n",
            "\n",
            "\rIXI.xls               0%[                    ]       0  --.-KB/s               \rIXI.xls             100%[===================>] 205.50K  --.-KB/s    in 0.03s   \n",
            "\n",
            "2021-06-01 16:14:01 (5.92 MB/s) - ‘IXI.xls’ saved [210432/210432]\n",
            "\n"
          ],
          "name": "stdout"
        }
      ]
    },
    {
      "cell_type": "code",
      "metadata": {
        "id": "5zFn5SC5hhs2"
      },
      "source": [
        "!mkdir dataset"
      ],
      "execution_count": 3,
      "outputs": []
    },
    {
      "cell_type": "code",
      "metadata": {
        "colab": {
          "base_uri": "https://localhost:8080/"
        },
        "id": "jcG9eSBthitG",
        "outputId": "616605e0-98ea-4627-e77b-cff6dc20afa2"
      },
      "source": [
        "!tar -xvf  'IXI-T1.tar' -C 'dataset'"
      ],
      "execution_count": 4,
      "outputs": [
        {
          "output_type": "stream",
          "text": [
            "IXI002-Guys-0828-T1.nii.gz\n",
            "IXI012-HH-1211-T1.nii.gz\n",
            "IXI013-HH-1212-T1.nii.gz\n",
            "IXI014-HH-1236-T1.nii.gz\n",
            "IXI015-HH-1258-T1.nii.gz\n",
            "IXI016-Guys-0697-T1.nii.gz\n",
            "IXI017-Guys-0698-T1.nii.gz\n",
            "IXI019-Guys-0702-T1.nii.gz\n",
            "IXI020-Guys-0700-T1.nii.gz\n",
            "IXI021-Guys-0703-T1.nii.gz\n",
            "IXI022-Guys-0701-T1.nii.gz\n",
            "IXI023-Guys-0699-T1.nii.gz\n",
            "IXI024-Guys-0705-T1.nii.gz\n",
            "IXI025-Guys-0852-T1.nii.gz\n",
            "IXI026-Guys-0696-T1.nii.gz\n",
            "IXI027-Guys-0710-T1.nii.gz\n",
            "IXI028-Guys-1038-T1.nii.gz\n",
            "IXI029-Guys-0829-T1.nii.gz\n",
            "IXI030-Guys-0708-T1.nii.gz\n",
            "IXI031-Guys-0797-T1.nii.gz\n",
            "IXI033-HH-1259-T1.nii.gz\n",
            "IXI034-HH-1260-T1.nii.gz\n",
            "IXI035-IOP-0873-T1.nii.gz\n",
            "IXI036-Guys-0736-T1.nii.gz\n",
            "IXI037-Guys-0704-T1.nii.gz\n",
            "IXI038-Guys-0729-T1.nii.gz\n",
            "IXI039-HH-1261-T1.nii.gz\n",
            "IXI040-Guys-0724-T1.nii.gz\n",
            "IXI041-Guys-0706-T1.nii.gz\n",
            "IXI042-Guys-0725-T1.nii.gz\n",
            "IXI043-Guys-0714-T1.nii.gz\n",
            "IXI044-Guys-0712-T1.nii.gz\n",
            "IXI045-Guys-0713-T1.nii.gz\n",
            "IXI046-Guys-0824-T1.nii.gz\n",
            "IXI048-HH-1326-T1.nii.gz\n",
            "IXI049-HH-1358-T1.nii.gz\n",
            "IXI050-Guys-0711-T1.nii.gz\n",
            "IXI051-HH-1328-T1.nii.gz\n",
            "IXI052-HH-1343-T1.nii.gz\n",
            "IXI053-Guys-0727-T1.nii.gz\n",
            "IXI054-Guys-0707-T1.nii.gz\n",
            "IXI055-Guys-0730-T1.nii.gz\n",
            "IXI056-HH-1327-T1.nii.gz\n",
            "IXI057-HH-1342-T1.nii.gz\n",
            "IXI058-Guys-0726-T1.nii.gz\n",
            "IXI059-HH-1284-T1.nii.gz\n",
            "IXI060-Guys-0709-T1.nii.gz\n",
            "IXI061-Guys-0715-T1.nii.gz\n",
            "IXI062-Guys-0740-T1.nii.gz\n",
            "IXI063-Guys-0742-T1.nii.gz\n",
            "IXI064-Guys-0743-T1.nii.gz\n",
            "IXI065-Guys-0744-T1.nii.gz\n",
            "IXI066-Guys-0731-T1.nii.gz\n",
            "IXI067-HH-1356-T1.nii.gz\n",
            "IXI068-Guys-0756-T1.nii.gz\n",
            "IXI069-Guys-0769-T1.nii.gz\n",
            "IXI070-Guys-0767-T1.nii.gz\n",
            "IXI071-Guys-0770-T1.nii.gz\n",
            "IXI072-HH-2324-T1.nii.gz\n",
            "IXI073-Guys-0755-T1.nii.gz\n",
            "IXI074-Guys-0771-T1.nii.gz\n",
            "IXI075-Guys-0754-T1.nii.gz\n",
            "IXI076-Guys-0753-T1.nii.gz\n",
            "IXI077-Guys-0752-T1.nii.gz\n",
            "IXI078-Guys-0751-T1.nii.gz\n",
            "IXI079-HH-1388-T1.nii.gz\n",
            "IXI080-HH-1341-T1.nii.gz\n",
            "IXI081-Guys-0855-T1.nii.gz\n",
            "IXI083-HH-1357-T1.nii.gz\n",
            "IXI084-Guys-0741-T1.nii.gz\n",
            "IXI085-Guys-0759-T1.nii.gz\n",
            "IXI086-Guys-0728-T1.nii.gz\n",
            "IXI087-Guys-0768-T1.nii.gz\n",
            "IXI088-Guys-0758-T1.nii.gz\n",
            "IXI089-Guys-0757-T1.nii.gz\n",
            "IXI090-Guys-0800-T1.nii.gz\n",
            "IXI091-Guys-0762-T1.nii.gz\n",
            "IXI092-HH-1436-T1.nii.gz\n",
            "IXI093-HH-1359-T1.nii.gz\n",
            "IXI094-HH-1355-T1.nii.gz\n",
            "IXI095-HH-1390-T1.nii.gz\n",
            "IXI096-HH-1391-T1.nii.gz\n",
            "IXI097-HH-1619-T1.nii.gz\n",
            "IXI098-Guys-0745-T1.nii.gz\n",
            "IXI099-Guys-0748-T1.nii.gz\n",
            "IXI100-Guys-0747-T1.nii.gz\n",
            "IXI101-Guys-0749-T1.nii.gz\n",
            "IXI102-HH-1416-T1.nii.gz\n",
            "IXI103-Guys-0750-T1.nii.gz\n",
            "IXI104-HH-1450-T1.nii.gz\n",
            "IXI105-HH-1471-T1.nii.gz\n",
            "IXI106-Guys-0760-T1.nii.gz\n",
            "IXI107-Guys-0761-T1.nii.gz\n",
            "IXI108-Guys-0865-T1.nii.gz\n",
            "IXI109-Guys-0732-T1.nii.gz\n",
            "IXI110-Guys-0733-T1.nii.gz\n",
            "IXI111-Guys-0734-T1.nii.gz\n",
            "IXI112-Guys-0735-T1.nii.gz\n",
            "IXI113-Guys-0776-T1.nii.gz\n",
            "IXI114-Guys-0737-T1.nii.gz\n",
            "IXI115-Guys-0738-T1.nii.gz\n",
            "IXI116-Guys-0739-T1.nii.gz\n",
            "IXI117-Guys-0763-T1.nii.gz\n",
            "IXI118-Guys-0764-T1.nii.gz\n",
            "IXI119-Guys-0765-T1.nii.gz\n",
            "IXI120-Guys-0766-T1.nii.gz\n",
            "IXI121-Guys-0772-T1.nii.gz\n",
            "IXI122-Guys-0773-T1.nii.gz\n",
            "IXI123-Guys-0774-T1.nii.gz\n",
            "IXI126-HH-1437-T1.nii.gz\n",
            "IXI127-HH-1451-T1.nii.gz\n",
            "IXI128-HH-1470-T1.nii.gz\n",
            "IXI129-Guys-0775-T1.nii.gz\n",
            "IXI130-HH-1528-T1.nii.gz\n",
            "IXI131-HH-1527-T1.nii.gz\n",
            "IXI132-HH-1415-T1.nii.gz\n",
            "IXI134-Guys-0780-T1.nii.gz\n",
            "IXI135-Guys-0779-T1.nii.gz\n",
            "IXI136-HH-1452-T1.nii.gz\n",
            "IXI137-HH-1472-T1.nii.gz\n",
            "IXI138-Guys-0746-T1.nii.gz\n",
            "IXI139-Guys-0815-T1.nii.gz\n",
            "IXI140-Guys-0787-T1.nii.gz\n",
            "IXI141-Guys-0789-T1.nii.gz\n",
            "IXI142-Guys-0786-T1.nii.gz\n",
            "IXI143-Guys-0785-T1.nii.gz\n",
            "IXI144-Guys-0788-T1.nii.gz\n",
            "IXI145-Guys-0781-T1.nii.gz\n",
            "IXI146-HH-1389-T1.nii.gz\n",
            "IXI148-HH-1453-T1.nii.gz\n",
            "IXI150-HH-1550-T1.nii.gz\n",
            "IXI151-Guys-0793-T1.nii.gz\n",
            "IXI153-Guys-0782-T1.nii.gz\n",
            "IXI154-Guys-0821-T1.nii.gz\n",
            "IXI156-Guys-0837-T1.nii.gz\n",
            "IXI157-Guys-0816-T1.nii.gz\n",
            "IXI158-Guys-0783-T1.nii.gz\n",
            "IXI159-HH-1549-T1.nii.gz\n",
            "IXI160-HH-1637-T1.nii.gz\n",
            "IXI161-HH-2533-T1.nii.gz\n",
            "IXI162-HH-1548-T1.nii.gz\n",
            "IXI163-HH-1621-T1.nii.gz\n",
            "IXI164-Guys-0844-T1.nii.gz\n",
            "IXI165-HH-1589-T1.nii.gz\n",
            "IXI166-Guys-0846-T1.nii.gz\n",
            "IXI167-HH-1569-T1.nii.gz\n",
            "IXI168-HH-1607-T1.nii.gz\n",
            "IXI169-Guys-0842-T1.nii.gz\n",
            "IXI170-Guys-0843-T1.nii.gz\n",
            "IXI172-Guys-0982-T1.nii.gz\n",
            "IXI173-HH-1590-T1.nii.gz\n",
            "IXI174-HH-1571-T1.nii.gz\n",
            "IXI175-HH-1570-T1.nii.gz\n",
            "IXI176-HH-1604-T1.nii.gz\n",
            "IXI177-Guys-0831-T1.nii.gz\n",
            "IXI178-Guys-0778-T1.nii.gz\n",
            "IXI179-Guys-0777-T1.nii.gz\n",
            "IXI180-HH-1605-T1.nii.gz\n",
            "IXI181-Guys-0790-T1.nii.gz\n",
            "IXI182-Guys-0792-T1.nii.gz\n",
            "IXI183-Guys-0791-T1.nii.gz\n",
            "IXI184-Guys-0794-T1.nii.gz\n",
            "IXI185-Guys-0795-T1.nii.gz\n",
            "IXI186-Guys-0796-T1.nii.gz\n",
            "IXI188-Guys-0798-T1.nii.gz\n",
            "IXI189-Guys-0799-T1.nii.gz\n",
            "IXI191-Guys-0801-T1.nii.gz\n",
            "IXI192-Guys-0878-T1.nii.gz\n",
            "IXI193-Guys-0810-T1.nii.gz\n",
            "IXI194-Guys-0818-T1.nii.gz\n",
            "IXI195-HH-1620-T1.nii.gz\n",
            "IXI196-Guys-0805-T1.nii.gz\n",
            "IXI197-Guys-0811-T1.nii.gz\n",
            "IXI198-Guys-0803-T1.nii.gz\n",
            "IXI199-Guys-0802-T1.nii.gz\n",
            "IXI200-Guys-0812-T1.nii.gz\n",
            "IXI201-HH-1588-T1.nii.gz\n",
            "IXI202-HH-1526-T1.nii.gz\n",
            "IXI204-HH-1651-T1.nii.gz\n",
            "IXI205-HH-1649-T1.nii.gz\n",
            "IXI206-HH-1650-T1.nii.gz\n",
            "IXI207-Guys-0809-T1.nii.gz\n",
            "IXI208-Guys-0808-T1.nii.gz\n",
            "IXI209-Guys-0804-T1.nii.gz\n",
            "IXI210-Guys-0856-T1.nii.gz\n",
            "IXI211-HH-1568-T1.nii.gz\n",
            "IXI212-HH-1643-T1.nii.gz\n",
            "IXI213-HH-1642-T1.nii.gz\n",
            "IXI214-HH-1636-T1.nii.gz\n",
            "IXI216-HH-1635-T1.nii.gz\n",
            "IXI217-HH-1638-T1.nii.gz\n",
            "IXI218-HH-1815-T1.nii.gz\n",
            "IXI219-Guys-0894-T1.nii.gz\n",
            "IXI221-HH-1606-T1.nii.gz\n",
            "IXI222-Guys-0819-T1.nii.gz\n",
            "IXI223-Guys-0830-T1.nii.gz\n",
            "IXI224-Guys-0823-T1.nii.gz\n",
            "IXI225-Guys-0832-T1.nii.gz\n",
            "IXI226-HH-1618-T1.nii.gz\n",
            "IXI227-Guys-0813-T1.nii.gz\n",
            "IXI228-Guys-0822-T1.nii.gz\n",
            "IXI229-Guys-0980-T1.nii.gz\n",
            "IXI230-IOP-0869-T1.nii.gz\n",
            "IXI231-IOP-0866-T1.nii.gz\n",
            "IXI232-IOP-0898-T1.nii.gz\n",
            "IXI233-IOP-0875-T1.nii.gz\n",
            "IXI234-IOP-0870-T1.nii.gz\n",
            "IXI236-Guys-0817-T1.nii.gz\n",
            "IXI237-Guys-1049-T1.nii.gz\n",
            "IXI238-IOP-0883-T1.nii.gz\n",
            "IXI239-HH-2296-T1.nii.gz\n",
            "IXI240-Guys-0834-T1.nii.gz\n",
            "IXI241-Guys-0833-T1.nii.gz\n",
            "IXI242-HH-1722-T1.nii.gz\n",
            "IXI244-Guys-0841-T1.nii.gz\n",
            "IXI246-Guys-0840-T1.nii.gz\n",
            "IXI247-Guys-0838-T1.nii.gz\n",
            "IXI248-HH-1972-T1.nii.gz\n",
            "IXI249-Guys-1072-T1.nii.gz\n",
            "IXI250-Guys-0836-T1.nii.gz\n",
            "IXI251-Guys-1055-T1.nii.gz\n",
            "IXI252-HH-1693-T1.nii.gz\n",
            "IXI253-HH-1694-T1.nii.gz\n",
            "IXI254-HH-1705-T1.nii.gz\n",
            "IXI255-HH-1882-T1.nii.gz\n",
            "IXI256-HH-1723-T1.nii.gz\n",
            "IXI257-HH-1724-T1.nii.gz\n",
            "IXI258-HH-1769-T1.nii.gz\n",
            "IXI259-HH-1804-T1.nii.gz\n",
            "IXI260-HH-1805-T1.nii.gz\n",
            "IXI261-HH-1704-T1.nii.gz\n",
            "IXI262-HH-1861-T1.nii.gz\n",
            "IXI263-HH-1684-T1.nii.gz\n",
            "IXI264-Guys-0854-T1.nii.gz\n",
            "IXI265-Guys-0845-T1.nii.gz\n",
            "IXI266-Guys-0853-T1.nii.gz\n",
            "IXI267-HH-1772-T1.nii.gz\n",
            "IXI268-Guys-0858-T1.nii.gz\n",
            "IXI269-Guys-0839-T1.nii.gz\n",
            "IXI270-Guys-0847-T1.nii.gz\n",
            "IXI274-HH-2294-T1.nii.gz\n",
            "IXI275-HH-1803-T1.nii.gz\n",
            "IXI276-HH-1840-T1.nii.gz\n",
            "IXI277-HH-1770-T1.nii.gz\n",
            "IXI278-HH-1771-T1.nii.gz\n",
            "IXI279-Guys-1044-T1.nii.gz\n",
            "IXI280-HH-1860-T1.nii.gz\n",
            "IXI282-HH-2025-T1.nii.gz\n",
            "IXI284-HH-2354-T1.nii.gz\n",
            "IXI285-Guys-0857-T1.nii.gz\n",
            "IXI286-Guys-0859-T1.nii.gz\n",
            "IXI287-Guys-0863-T1.nii.gz\n",
            "IXI288-Guys-0879-T1.nii.gz\n",
            "IXI289-Guys-0864-T1.nii.gz\n",
            "IXI290-IOP-0874-T1.nii.gz\n",
            "IXI291-IOP-0882-T1.nii.gz\n",
            "IXI292-IOP-0877-T1.nii.gz\n",
            "IXI293-IOP-0876-T1.nii.gz\n",
            "IXI294-IOP-0868-T1.nii.gz\n",
            "IXI295-HH-1814-T1.nii.gz\n",
            "IXI296-HH-1970-T1.nii.gz\n",
            "IXI297-Guys-0886-T1.nii.gz\n",
            "IXI298-Guys-0861-T1.nii.gz\n",
            "IXI299-Guys-0893-T1.nii.gz\n",
            "IXI300-Guys-0880-T1.nii.gz\n",
            "IXI302-HH-1883-T1.nii.gz\n",
            "IXI303-IOP-0968-T1.nii.gz\n",
            "IXI304-Guys-0862-T1.nii.gz\n",
            "IXI305-IOP-0871-T1.nii.gz\n",
            "IXI306-IOP-0867-T1.nii.gz\n",
            "IXI307-IOP-0872-T1.nii.gz\n",
            "IXI308-Guys-0884-T1.nii.gz\n",
            "IXI309-IOP-0897-T1.nii.gz\n",
            "IXI310-IOP-0890-T1.nii.gz\n",
            "IXI311-Guys-0885-T1.nii.gz\n",
            "IXI312-Guys-0887-T1.nii.gz\n",
            "IXI313-HH-2241-T1.nii.gz\n",
            "IXI314-IOP-0889-T1.nii.gz\n",
            "IXI315-IOP-0888-T1.nii.gz\n",
            "IXI316-HH-1862-T1.nii.gz\n",
            "IXI317-Guys-0896-T1.nii.gz\n",
            "IXI318-Guys-0895-T1.nii.gz\n",
            "IXI319-Guys-0901-T1.nii.gz\n",
            "IXI320-Guys-0902-T1.nii.gz\n",
            "IXI321-Guys-0903-T1.nii.gz\n",
            "IXI322-IOP-0891-T1.nii.gz\n",
            "IXI324-Guys-0922-T1.nii.gz\n",
            "IXI325-Guys-0911-T1.nii.gz\n",
            "IXI326-Guys-0907-T1.nii.gz\n",
            "IXI327-HH-1999-T1.nii.gz\n",
            "IXI328-HH-2295-T1.nii.gz\n",
            "IXI329-HH-1908-T1.nii.gz\n",
            "IXI330-Guys-0881-T1.nii.gz\n",
            "IXI331-IOP-0892-T1.nii.gz\n",
            "IXI332-IOP-1134-T1.nii.gz\n",
            "IXI333-IOP-0926-T1.nii.gz\n",
            "IXI334-HH-1907-T1.nii.gz\n",
            "IXI335-HH-1906-T1.nii.gz\n",
            "IXI336-Guys-0904-T1.nii.gz\n",
            "IXI337-IOP-0929-T1.nii.gz\n",
            "IXI338-HH-1971-T1.nii.gz\n",
            "IXI340-IOP-0915-T1.nii.gz\n",
            "IXI341-Guys-0906-T1.nii.gz\n",
            "IXI342-Guys-0909-T1.nii.gz\n",
            "IXI344-Guys-0905-T1.nii.gz\n",
            "IXI345-IOP-0928-T1.nii.gz\n",
            "IXI347-IOP-0927-T1.nii.gz\n",
            "IXI348-Guys-0910-T1.nii.gz\n",
            "IXI350-Guys-0908-T1.nii.gz\n",
            "IXI351-Guys-0914-T1.nii.gz\n",
            "IXI353-HH-1996-T1.nii.gz\n",
            "IXI354-HH-2024-T1.nii.gz\n",
            "IXI356-HH-2049-T1.nii.gz\n",
            "IXI357-HH-2076-T1.nii.gz\n",
            "IXI358-Guys-0919-T1.nii.gz\n",
            "IXI359-Guys-0918-T1.nii.gz\n",
            "IXI360-Guys-0912-T1.nii.gz\n",
            "IXI361-Guys-0913-T1.nii.gz\n",
            "IXI362-HH-2051-T1.nii.gz\n",
            "IXI363-HH-2050-T1.nii.gz\n",
            "IXI364-Guys-0920-T1.nii.gz\n",
            "IXI365-Guys-0923-T1.nii.gz\n",
            "IXI367-Guys-0917-T1.nii.gz\n",
            "IXI368-Guys-0916-T1.nii.gz\n",
            "IXI369-Guys-0924-T1.nii.gz\n",
            "IXI370-Guys-0921-T1.nii.gz\n",
            "IXI371-IOP-0970-T1.nii.gz\n",
            "IXI372-IOP-0971-T1.nii.gz\n",
            "IXI373-IOP-0967-T1.nii.gz\n",
            "IXI375-Guys-0925-T1.nii.gz\n",
            "IXI376-Guys-0938-T1.nii.gz\n",
            "IXI377-Guys-0937-T1.nii.gz\n",
            "IXI378-IOP-0972-T1.nii.gz\n",
            "IXI379-Guys-0943-T1.nii.gz\n",
            "IXI380-Guys-0944-T1.nii.gz\n",
            "IXI381-Guys-1024-T1.nii.gz\n",
            "IXI382-IOP-1135-T1.nii.gz\n",
            "IXI383-HH-2099-T1.nii.gz\n",
            "IXI384-HH-2100-T1.nii.gz\n",
            "IXI385-HH-2078-T1.nii.gz\n",
            "IXI386-HH-2077-T1.nii.gz\n",
            "IXI387-HH-2101-T1.nii.gz\n",
            "IXI388-IOP-0973-T1.nii.gz\n",
            "IXI389-Guys-0930-T1.nii.gz\n",
            "IXI390-Guys-0931-T1.nii.gz\n",
            "IXI391-Guys-0934-T1.nii.gz\n",
            "IXI392-Guys-1064-T1.nii.gz\n",
            "IXI393-Guys-0941-T1.nii.gz\n",
            "IXI394-Guys-0940-T1.nii.gz\n",
            "IXI395-IOP-0969-T1.nii.gz\n",
            "IXI396-HH-2115-T1.nii.gz\n",
            "IXI397-Guys-0953-T1.nii.gz\n",
            "IXI398-Guys-0952-T1.nii.gz\n",
            "IXI399-Guys-0966-T1.nii.gz\n",
            "IXI400-Guys-0977-T1.nii.gz\n",
            "IXI401-Guys-0978-T1.nii.gz\n",
            "IXI402-Guys-0961-T1.nii.gz\n",
            "IXI403-Guys-0965-T1.nii.gz\n",
            "IXI404-Guys-0950-T1.nii.gz\n",
            "IXI405-Guys-0948-T1.nii.gz\n",
            "IXI406-Guys-0963-T1.nii.gz\n",
            "IXI407-Guys-0964-T1.nii.gz\n",
            "IXI408-Guys-0962-T1.nii.gz\n",
            "IXI409-Guys-0960-T1.nii.gz\n",
            "IXI410-Guys-0958-T1.nii.gz\n",
            "IXI411-Guys-0959-T1.nii.gz\n",
            "IXI412-Guys-0949-T1.nii.gz\n",
            "IXI413-Guys-0955-T1.nii.gz\n",
            "IXI414-Guys-0957-T1.nii.gz\n",
            "IXI415-Guys-0942-T1.nii.gz\n",
            "IXI416-Guys-1051-T1.nii.gz\n",
            "IXI417-Guys-0939-T1.nii.gz\n",
            "IXI418-Guys-0956-T1.nii.gz\n",
            "IXI419-Guys-1027-T1.nii.gz\n",
            "IXI420-Guys-1028-T1.nii.gz\n",
            "IXI422-Guys-1071-T1.nii.gz\n",
            "IXI423-IOP-0974-T1.nii.gz\n",
            "IXI424-IOP-0991-T1.nii.gz\n",
            "IXI425-IOP-0988-T1.nii.gz\n",
            "IXI426-IOP-1011-T1.nii.gz\n",
            "IXI427-IOP-1012-T1.nii.gz\n",
            "IXI428-Guys-0996-T1.nii.gz\n",
            "IXI429-Guys-0997-T1.nii.gz\n",
            "IXI430-IOP-0990-T1.nii.gz\n",
            "IXI431-Guys-0986-T1.nii.gz\n",
            "IXI432-Guys-0987-T1.nii.gz\n",
            "IXI433-IOP-0989-T1.nii.gz\n",
            "IXI434-IOP-1010-T1.nii.gz\n",
            "IXI435-IOP-1040-T1.nii.gz\n",
            "IXI436-HH-2153-T1.nii.gz\n",
            "IXI437-HH-2152-T1.nii.gz\n",
            "IXI438-HH-2155-T1.nii.gz\n",
            "IXI439-HH-2114-T1.nii.gz\n",
            "IXI440-HH-2127-T1.nii.gz\n",
            "IXI441-HH-2154-T1.nii.gz\n",
            "IXI442-IOP-1041-T1.nii.gz\n",
            "IXI443-HH-2215-T1.nii.gz\n",
            "IXI444-HH-2270-T1.nii.gz\n",
            "IXI445-HH-2269-T1.nii.gz\n",
            "IXI446-HH-2325-T1.nii.gz\n",
            "IXI447-Guys-0979-T1.nii.gz\n",
            "IXI448-HH-2393-T1.nii.gz\n",
            "IXI449-Guys-1082-T1.nii.gz\n",
            "IXI450-Guys-1093-T1.nii.gz\n",
            "IXI451-HH-2212-T1.nii.gz\n",
            "IXI452-HH-2213-T1.nii.gz\n",
            "IXI453-HH-2214-T1.nii.gz\n",
            "IXI454-Guys-1083-T1.nii.gz\n",
            "IXI455-Guys-0981-T1.nii.gz\n",
            "IXI456-Guys-1019-T1.nii.gz\n",
            "IXI457-Guys-0984-T1.nii.gz\n",
            "IXI458-Guys-0993-T1.nii.gz\n",
            "IXI459-Guys-0992-T1.nii.gz\n",
            "IXI460-Guys-0999-T1.nii.gz\n",
            "IXI461-Guys-0998-T1.nii.gz\n",
            "IXI462-IOP-1042-T1.nii.gz\n",
            "IXI463-IOP-1043-T1.nii.gz\n",
            "IXI464-IOP-1029-T1.nii.gz\n",
            "IXI465-HH-2176-T1.nii.gz\n",
            "IXI467-Guys-0983-T1.nii.gz\n",
            "IXI468-Guys-0985-T1.nii.gz\n",
            "IXI469-IOP-1136-T1.nii.gz\n",
            "IXI470-IOP-1030-T1.nii.gz\n",
            "IXI473-IOP-1137-T1.nii.gz\n",
            "IXI474-IOP-1138-T1.nii.gz\n",
            "IXI475-IOP-1139-T1.nii.gz\n",
            "IXI476-IOP-1140-T1.nii.gz\n",
            "IXI477-IOP-1141-T1.nii.gz\n",
            "IXI478-IOP-1142-T1.nii.gz\n",
            "IXI479-Guys-1034-T1.nii.gz\n",
            "IXI480-Guys-1033-T1.nii.gz\n",
            "IXI481-HH-2175-T1.nii.gz\n",
            "IXI482-HH-2178-T1.nii.gz\n",
            "IXI483-HH-2177-T1.nii.gz\n",
            "IXI484-HH-2179-T1.nii.gz\n",
            "IXI485-HH-2180-T1.nii.gz\n",
            "IXI486-Guys-1005-T1.nii.gz\n",
            "IXI487-Guys-1037-T1.nii.gz\n",
            "IXI488-Guys-1015-T1.nii.gz\n",
            "IXI489-Guys-1014-T1.nii.gz\n",
            "IXI490-Guys-1018-T1.nii.gz\n",
            "IXI491-Guys-1032-T1.nii.gz\n",
            "IXI492-Guys-1022-T1.nii.gz\n",
            "IXI493-Guys-1007-T1.nii.gz\n",
            "IXI494-Guys-1008-T1.nii.gz\n",
            "IXI495-Guys-1009-T1.nii.gz\n",
            "IXI496-Guys-1045-T1.nii.gz\n",
            "IXI497-Guys-1002-T1.nii.gz\n",
            "IXI498-Guys-1050-T1.nii.gz\n",
            "IXI499-Guys-1004-T1.nii.gz\n",
            "IXI500-Guys-1017-T1.nii.gz\n",
            "IXI501-Guys-1016-T1.nii.gz\n",
            "IXI502-Guys-1020-T1.nii.gz\n",
            "IXI503-Guys-1021-T1.nii.gz\n",
            "IXI504-Guys-1025-T1.nii.gz\n",
            "IXI505-Guys-1026-T1.nii.gz\n",
            "IXI506-Guys-1035-T1.nii.gz\n",
            "IXI507-Guys-1036-T1.nii.gz\n",
            "IXI508-HH-2268-T1.nii.gz\n",
            "IXI510-IOP-1143-T1.nii.gz\n",
            "IXI511-HH-2238-T1.nii.gz\n",
            "IXI512-Guys-1054-T1.nii.gz\n",
            "IXI515-HH-2377-T1.nii.gz\n",
            "IXI516-HH-2297-T1.nii.gz\n",
            "IXI517-IOP-1144-T1.nii.gz\n",
            "IXI518-HH-2239-T1.nii.gz\n",
            "IXI519-HH-2240-T1.nii.gz\n",
            "IXI521-HH-2353-T1.nii.gz\n",
            "IXI522-HH-2453-T1.nii.gz\n",
            "IXI523-Guys-1056-T1.nii.gz\n",
            "IXI524-HH-2412-T1.nii.gz\n",
            "IXI525-HH-2413-T1.nii.gz\n",
            "IXI526-HH-2392-T1.nii.gz\n",
            "IXI527-HH-2376-T1.nii.gz\n",
            "IXI528-Guys-1073-T1.nii.gz\n",
            "IXI531-Guys-1057-T1.nii.gz\n",
            "IXI532-IOP-1145-T1.nii.gz\n",
            "IXI533-Guys-1066-T1.nii.gz\n",
            "IXI534-Guys-1062-T1.nii.gz\n",
            "IXI535-Guys-1061-T1.nii.gz\n",
            "IXI536-Guys-1059-T1.nii.gz\n",
            "IXI537-HH-2378-T1.nii.gz\n",
            "IXI538-HH-2411-T1.nii.gz\n",
            "IXI539-Guys-1067-T1.nii.gz\n",
            "IXI541-IOP-1146-T1.nii.gz\n",
            "IXI542-IOP-1147-T1.nii.gz\n",
            "IXI543-IOP-1148-T1.nii.gz\n",
            "IXI544-HH-2395-T1.nii.gz\n",
            "IXI546-HH-2450-T1.nii.gz\n",
            "IXI547-IOP-1149-T1.nii.gz\n",
            "IXI548-IOP-1150-T1.nii.gz\n",
            "IXI549-Guys-1046-T1.nii.gz\n",
            "IXI550-Guys-1069-T1.nii.gz\n",
            "IXI551-Guys-1065-T1.nii.gz\n",
            "IXI552-Guys-1063-T1.nii.gz\n",
            "IXI553-IOP-1151-T1.nii.gz\n",
            "IXI554-Guys-1068-T1.nii.gz\n",
            "IXI555-Guys-1074-T1.nii.gz\n",
            "IXI556-HH-2452-T1.nii.gz\n",
            "IXI558-Guys-1079-T1.nii.gz\n",
            "IXI559-HH-2394-T1.nii.gz\n",
            "IXI560-Guys-1070-T1.nii.gz\n",
            "IXI561-IOP-1152-T1.nii.gz\n",
            "IXI562-Guys-1131-T1.nii.gz\n",
            "IXI563-IOP-1153-T1.nii.gz\n",
            "IXI565-HH-2534-T1.nii.gz\n",
            "IXI566-HH-2535-T1.nii.gz\n",
            "IXI567-HH-2536-T1.nii.gz\n",
            "IXI568-HH-2607-T1.nii.gz\n",
            "IXI569-Guys-1101-T1.nii.gz\n",
            "IXI571-IOP-1154-T1.nii.gz\n",
            "IXI572-HH-2605-T1.nii.gz\n",
            "IXI573-IOP-1155-T1.nii.gz\n",
            "IXI574-IOP-1156-T1.nii.gz\n",
            "IXI575-HH-2658-T1.nii.gz\n",
            "IXI576-Guys-1077-T1.nii.gz\n",
            "IXI577-HH-2661-T1.nii.gz\n",
            "IXI578-Guys-1078-T1.nii.gz\n",
            "IXI579-Guys-1126-T1.nii.gz\n",
            "IXI582-Guys-1127-T1.nii.gz\n",
            "IXI584-Guys-1129-T1.nii.gz\n",
            "IXI585-Guys-1130-T1.nii.gz\n",
            "IXI586-HH-2451-T1.nii.gz\n",
            "IXI587-Guys-1128-T1.nii.gz\n",
            "IXI588-IOP-1158-T1.nii.gz\n",
            "IXI589-Guys-1080-T1.nii.gz\n",
            "IXI591-Guys-1084-T1.nii.gz\n",
            "IXI592-Guys-1085-T1.nii.gz\n",
            "IXI593-Guys-1109-T1.nii.gz\n",
            "IXI594-Guys-1089-T1.nii.gz\n",
            "IXI595-IOP-1159-T1.nii.gz\n",
            "IXI596-IOP-1160-T1.nii.gz\n",
            "IXI597-IOP-1161-T1.nii.gz\n",
            "IXI598-HH-2606-T1.nii.gz\n",
            "IXI599-HH-2659-T1.nii.gz\n",
            "IXI600-HH-2660-T1.nii.gz\n",
            "IXI601-HH-2700-T1.nii.gz\n",
            "IXI603-HH-2701-T1.nii.gz\n",
            "IXI605-HH-2598-T1.nii.gz\n",
            "IXI606-HH-2601-T1.nii.gz\n",
            "IXI607-Guys-1097-T1.nii.gz\n",
            "IXI608-HH-2599-T1.nii.gz\n",
            "IXI609-HH-2600-T1.nii.gz\n",
            "IXI610-HH-2649-T1.nii.gz\n",
            "IXI611-HH-2650-T1.nii.gz\n",
            "IXI612-HH-2688-T1.nii.gz\n",
            "IXI613-HH-2734-T1.nii.gz\n",
            "IXI614-HH-2735-T1.nii.gz\n",
            "IXI616-Guys-1092-T1.nii.gz\n",
            "IXI617-Guys-1090-T1.nii.gz\n",
            "IXI618-Guys-1091-T1.nii.gz\n",
            "IXI619-Guys-1099-T1.nii.gz\n",
            "IXI621-Guys-1100-T1.nii.gz\n",
            "IXI622-Guys-1102-T1.nii.gz\n",
            "IXI623-Guys-1076-T1.nii.gz\n",
            "IXI625-Guys-1098-T1.nii.gz\n",
            "IXI626-Guys-1094-T1.nii.gz\n",
            "IXI627-Guys-1103-T1.nii.gz\n",
            "IXI629-Guys-1095-T1.nii.gz\n",
            "IXI630-Guys-1108-T1.nii.gz\n",
            "IXI631-HH-2651-T1.nii.gz\n",
            "IXI632-HH-2652-T1.nii.gz\n",
            "IXI633-HH-2689-T1.nii.gz\n",
            "IXI634-HH-2690-T1.nii.gz\n",
            "IXI635-HH-2691-T1.nii.gz\n",
            "IXI636-HH-2733-T1.nii.gz\n",
            "IXI637-HH-2785-T1.nii.gz\n",
            "IXI638-HH-2786-T1.nii.gz\n",
            "IXI639-Guys-1088-T1.nii.gz\n",
            "IXI640-Guys-1106-T1.nii.gz\n",
            "IXI641-Guys-1105-T1.nii.gz\n",
            "IXI642-Guys-1104-T1.nii.gz\n",
            "IXI643-HH-2787-T1.nii.gz\n",
            "IXI644-Guys-1121-T1.nii.gz\n",
            "IXI646-HH-2653-T1.nii.gz\n",
            "IXI648-Guys-1107-T1.nii.gz\n",
            "IXI651-Guys-1118-T1.nii.gz\n",
            "IXI652-Guys-1116-T1.nii.gz\n",
            "IXI653-Guys-1122-T1.nii.gz\n",
            "IXI661-HH-2788-T1.nii.gz\n",
            "IXI662-Guys-1120-T1.nii.gz\n"
          ],
          "name": "stdout"
        }
      ]
    },
    {
      "cell_type": "code",
      "metadata": {
        "id": "ChM0l6oJWjrw"
      },
      "source": [
        "!rm 'IXI-T1.tar'"
      ],
      "execution_count": 5,
      "outputs": []
    },
    {
      "cell_type": "code",
      "metadata": {
        "colab": {
          "base_uri": "https://localhost:8080/",
          "height": 1000
        },
        "id": "wxdhaHAOhj3e",
        "outputId": "b6a3d12d-d3ac-453c-9f59-fc0b28a01899"
      },
      "source": [
        "!pip install dltk"
      ],
      "execution_count": 6,
      "outputs": [
        {
          "output_type": "stream",
          "text": [
            "Collecting dltk\n",
            "\u001b[?25l  Downloading https://files.pythonhosted.org/packages/7f/55/bc7d72866c61f34f298e494d01c7c69eb26e8af711f5a2694c6bb9dceaca/dltk-0.2.1.tar.gz (294kB)\n",
            "\r\u001b[K     |█▏                              | 10kB 17.9MB/s eta 0:00:01\r\u001b[K     |██▎                             | 20kB 19.1MB/s eta 0:00:01\r\u001b[K     |███▍                            | 30kB 15.0MB/s eta 0:00:01\r\u001b[K     |████▌                           | 40kB 14.2MB/s eta 0:00:01\r\u001b[K     |█████▋                          | 51kB 10.1MB/s eta 0:00:01\r\u001b[K     |██████▊                         | 61kB 11.5MB/s eta 0:00:01\r\u001b[K     |███████▉                        | 71kB 12.1MB/s eta 0:00:01\r\u001b[K     |█████████                       | 81kB 13.1MB/s eta 0:00:01\r\u001b[K     |██████████                      | 92kB 12.1MB/s eta 0:00:01\r\u001b[K     |███████████▏                    | 102kB 10.5MB/s eta 0:00:01\r\u001b[K     |████████████▎                   | 112kB 10.5MB/s eta 0:00:01\r\u001b[K     |█████████████▍                  | 122kB 10.5MB/s eta 0:00:01\r\u001b[K     |██████████████▌                 | 133kB 10.5MB/s eta 0:00:01\r\u001b[K     |███████████████▋                | 143kB 10.5MB/s eta 0:00:01\r\u001b[K     |████████████████▊               | 153kB 10.5MB/s eta 0:00:01\r\u001b[K     |█████████████████▉              | 163kB 10.5MB/s eta 0:00:01\r\u001b[K     |███████████████████             | 174kB 10.5MB/s eta 0:00:01\r\u001b[K     |████████████████████            | 184kB 10.5MB/s eta 0:00:01\r\u001b[K     |█████████████████████▏          | 194kB 10.5MB/s eta 0:00:01\r\u001b[K     |██████████████████████▎         | 204kB 10.5MB/s eta 0:00:01\r\u001b[K     |███████████████████████▍        | 215kB 10.5MB/s eta 0:00:01\r\u001b[K     |████████████████████████▌       | 225kB 10.5MB/s eta 0:00:01\r\u001b[K     |█████████████████████████▋      | 235kB 10.5MB/s eta 0:00:01\r\u001b[K     |██████████████████████████▊     | 245kB 10.5MB/s eta 0:00:01\r\u001b[K     |███████████████████████████▉    | 256kB 10.5MB/s eta 0:00:01\r\u001b[K     |█████████████████████████████   | 266kB 10.5MB/s eta 0:00:01\r\u001b[K     |██████████████████████████████  | 276kB 10.5MB/s eta 0:00:01\r\u001b[K     |███████████████████████████████▏| 286kB 10.5MB/s eta 0:00:01\r\u001b[K     |████████████████████████████████| 296kB 10.5MB/s \n",
            "\u001b[?25hRequirement already satisfied: numpy>=1.14.0 in /usr/local/lib/python3.7/dist-packages (from dltk) (1.19.5)\n",
            "Requirement already satisfied: scipy>=0.19.0 in /usr/local/lib/python3.7/dist-packages (from dltk) (1.4.1)\n",
            "Requirement already satisfied: pandas>=0.19.0 in /usr/local/lib/python3.7/dist-packages (from dltk) (1.1.5)\n",
            "Requirement already satisfied: matplotlib>=1.5.3 in /usr/local/lib/python3.7/dist-packages (from dltk) (3.2.2)\n",
            "Requirement already satisfied: future>=0.16.0 in /usr/local/lib/python3.7/dist-packages (from dltk) (0.16.0)\n",
            "Requirement already satisfied: xlrd>=1.1.0 in /usr/local/lib/python3.7/dist-packages (from dltk) (1.1.0)\n",
            "Requirement already satisfied: scikit-image>=0.13.0 in /usr/local/lib/python3.7/dist-packages (from dltk) (0.16.2)\n",
            "Collecting SimpleITK>=1.0.0\n",
            "\u001b[?25l  Downloading https://files.pythonhosted.org/packages/9c/6b/85df5eb3a8059b23a53a9f224476e75473f9bcc0a8583ed1a9c34619f372/SimpleITK-2.0.2-cp37-cp37m-manylinux2010_x86_64.whl (47.4MB)\n",
            "\u001b[K     |████████████████████████████████| 47.4MB 64kB/s \n",
            "\u001b[?25hRequirement already satisfied: jupyter>=1.0.0 in /usr/local/lib/python3.7/dist-packages (from dltk) (1.0.0)\n",
            "Collecting argparse\n",
            "  Downloading https://files.pythonhosted.org/packages/f2/94/3af39d34be01a24a6e65433d19e107099374224905f1e0cc6bbe1fd22a2f/argparse-1.4.0-py2.py3-none-any.whl\n",
            "Requirement already satisfied: pytz>=2017.2 in /usr/local/lib/python3.7/dist-packages (from pandas>=0.19.0->dltk) (2018.9)\n",
            "Requirement already satisfied: python-dateutil>=2.7.3 in /usr/local/lib/python3.7/dist-packages (from pandas>=0.19.0->dltk) (2.8.1)\n",
            "Requirement already satisfied: cycler>=0.10 in /usr/local/lib/python3.7/dist-packages (from matplotlib>=1.5.3->dltk) (0.10.0)\n",
            "Requirement already satisfied: pyparsing!=2.0.4,!=2.1.2,!=2.1.6,>=2.0.1 in /usr/local/lib/python3.7/dist-packages (from matplotlib>=1.5.3->dltk) (2.4.7)\n",
            "Requirement already satisfied: kiwisolver>=1.0.1 in /usr/local/lib/python3.7/dist-packages (from matplotlib>=1.5.3->dltk) (1.3.1)\n",
            "Requirement already satisfied: pillow>=4.3.0 in /usr/local/lib/python3.7/dist-packages (from scikit-image>=0.13.0->dltk) (7.1.2)\n",
            "Requirement already satisfied: networkx>=2.0 in /usr/local/lib/python3.7/dist-packages (from scikit-image>=0.13.0->dltk) (2.5.1)\n",
            "Requirement already satisfied: PyWavelets>=0.4.0 in /usr/local/lib/python3.7/dist-packages (from scikit-image>=0.13.0->dltk) (1.1.1)\n",
            "Requirement already satisfied: imageio>=2.3.0 in /usr/local/lib/python3.7/dist-packages (from scikit-image>=0.13.0->dltk) (2.4.1)\n",
            "Requirement already satisfied: nbconvert in /usr/local/lib/python3.7/dist-packages (from jupyter>=1.0.0->dltk) (5.6.1)\n",
            "Requirement already satisfied: qtconsole in /usr/local/lib/python3.7/dist-packages (from jupyter>=1.0.0->dltk) (5.1.0)\n",
            "Requirement already satisfied: notebook in /usr/local/lib/python3.7/dist-packages (from jupyter>=1.0.0->dltk) (5.3.1)\n",
            "Requirement already satisfied: ipykernel in /usr/local/lib/python3.7/dist-packages (from jupyter>=1.0.0->dltk) (4.10.1)\n",
            "Requirement already satisfied: ipywidgets in /usr/local/lib/python3.7/dist-packages (from jupyter>=1.0.0->dltk) (7.6.3)\n",
            "Requirement already satisfied: jupyter-console in /usr/local/lib/python3.7/dist-packages (from jupyter>=1.0.0->dltk) (5.2.0)\n",
            "Requirement already satisfied: six>=1.5 in /usr/local/lib/python3.7/dist-packages (from python-dateutil>=2.7.3->pandas>=0.19.0->dltk) (1.15.0)\n",
            "Requirement already satisfied: decorator<5,>=4.3 in /usr/local/lib/python3.7/dist-packages (from networkx>=2.0->scikit-image>=0.13.0->dltk) (4.4.2)\n",
            "Requirement already satisfied: defusedxml in /usr/local/lib/python3.7/dist-packages (from nbconvert->jupyter>=1.0.0->dltk) (0.7.1)\n",
            "Requirement already satisfied: nbformat>=4.4 in /usr/local/lib/python3.7/dist-packages (from nbconvert->jupyter>=1.0.0->dltk) (5.1.3)\n",
            "Requirement already satisfied: testpath in /usr/local/lib/python3.7/dist-packages (from nbconvert->jupyter>=1.0.0->dltk) (0.5.0)\n",
            "Requirement already satisfied: traitlets>=4.2 in /usr/local/lib/python3.7/dist-packages (from nbconvert->jupyter>=1.0.0->dltk) (5.0.5)\n",
            "Requirement already satisfied: entrypoints>=0.2.2 in /usr/local/lib/python3.7/dist-packages (from nbconvert->jupyter>=1.0.0->dltk) (0.3)\n",
            "Requirement already satisfied: jupyter-core in /usr/local/lib/python3.7/dist-packages (from nbconvert->jupyter>=1.0.0->dltk) (4.7.1)\n",
            "Requirement already satisfied: jinja2>=2.4 in /usr/local/lib/python3.7/dist-packages (from nbconvert->jupyter>=1.0.0->dltk) (2.11.3)\n",
            "Requirement already satisfied: bleach in /usr/local/lib/python3.7/dist-packages (from nbconvert->jupyter>=1.0.0->dltk) (3.3.0)\n",
            "Requirement already satisfied: pandocfilters>=1.4.1 in /usr/local/lib/python3.7/dist-packages (from nbconvert->jupyter>=1.0.0->dltk) (1.4.3)\n",
            "Requirement already satisfied: pygments in /usr/local/lib/python3.7/dist-packages (from nbconvert->jupyter>=1.0.0->dltk) (2.6.1)\n",
            "Requirement already satisfied: mistune<2,>=0.8.1 in /usr/local/lib/python3.7/dist-packages (from nbconvert->jupyter>=1.0.0->dltk) (0.8.4)\n",
            "Requirement already satisfied: pyzmq>=17.1 in /usr/local/lib/python3.7/dist-packages (from qtconsole->jupyter>=1.0.0->dltk) (22.0.3)\n",
            "Requirement already satisfied: jupyter-client>=4.1 in /usr/local/lib/python3.7/dist-packages (from qtconsole->jupyter>=1.0.0->dltk) (5.3.5)\n",
            "Requirement already satisfied: qtpy in /usr/local/lib/python3.7/dist-packages (from qtconsole->jupyter>=1.0.0->dltk) (1.9.0)\n",
            "Requirement already satisfied: ipython-genutils in /usr/local/lib/python3.7/dist-packages (from qtconsole->jupyter>=1.0.0->dltk) (0.2.0)\n",
            "Requirement already satisfied: terminado>=0.8.1 in /usr/local/lib/python3.7/dist-packages (from notebook->jupyter>=1.0.0->dltk) (0.10.0)\n",
            "Requirement already satisfied: Send2Trash in /usr/local/lib/python3.7/dist-packages (from notebook->jupyter>=1.0.0->dltk) (1.5.0)\n",
            "Requirement already satisfied: tornado>=4 in /usr/local/lib/python3.7/dist-packages (from notebook->jupyter>=1.0.0->dltk) (5.1.1)\n",
            "Requirement already satisfied: ipython>=4.0.0 in /usr/local/lib/python3.7/dist-packages (from ipykernel->jupyter>=1.0.0->dltk) (5.5.0)\n",
            "Requirement already satisfied: jupyterlab-widgets>=1.0.0; python_version >= \"3.6\" in /usr/local/lib/python3.7/dist-packages (from ipywidgets->jupyter>=1.0.0->dltk) (1.0.0)\n",
            "Requirement already satisfied: widgetsnbextension~=3.5.0 in /usr/local/lib/python3.7/dist-packages (from ipywidgets->jupyter>=1.0.0->dltk) (3.5.1)\n",
            "Requirement already satisfied: prompt-toolkit<2.0.0,>=1.0.0 in /usr/local/lib/python3.7/dist-packages (from jupyter-console->jupyter>=1.0.0->dltk) (1.0.18)\n",
            "Requirement already satisfied: jsonschema!=2.5.0,>=2.4 in /usr/local/lib/python3.7/dist-packages (from nbformat>=4.4->nbconvert->jupyter>=1.0.0->dltk) (2.6.0)\n",
            "Requirement already satisfied: MarkupSafe>=0.23 in /usr/local/lib/python3.7/dist-packages (from jinja2>=2.4->nbconvert->jupyter>=1.0.0->dltk) (2.0.1)\n",
            "Requirement already satisfied: webencodings in /usr/local/lib/python3.7/dist-packages (from bleach->nbconvert->jupyter>=1.0.0->dltk) (0.5.1)\n",
            "Requirement already satisfied: packaging in /usr/local/lib/python3.7/dist-packages (from bleach->nbconvert->jupyter>=1.0.0->dltk) (20.9)\n",
            "Requirement already satisfied: ptyprocess; os_name != \"nt\" in /usr/local/lib/python3.7/dist-packages (from terminado>=0.8.1->notebook->jupyter>=1.0.0->dltk) (0.7.0)\n",
            "Requirement already satisfied: setuptools>=18.5 in /usr/local/lib/python3.7/dist-packages (from ipython>=4.0.0->ipykernel->jupyter>=1.0.0->dltk) (56.1.0)\n",
            "Requirement already satisfied: simplegeneric>0.8 in /usr/local/lib/python3.7/dist-packages (from ipython>=4.0.0->ipykernel->jupyter>=1.0.0->dltk) (0.8.1)\n",
            "Requirement already satisfied: pickleshare in /usr/local/lib/python3.7/dist-packages (from ipython>=4.0.0->ipykernel->jupyter>=1.0.0->dltk) (0.7.5)\n",
            "Requirement already satisfied: pexpect; sys_platform != \"win32\" in /usr/local/lib/python3.7/dist-packages (from ipython>=4.0.0->ipykernel->jupyter>=1.0.0->dltk) (4.8.0)\n",
            "Requirement already satisfied: wcwidth in /usr/local/lib/python3.7/dist-packages (from prompt-toolkit<2.0.0,>=1.0.0->jupyter-console->jupyter>=1.0.0->dltk) (0.2.5)\n",
            "Building wheels for collected packages: dltk\n",
            "  Building wheel for dltk (setup.py) ... \u001b[?25l\u001b[?25hdone\n",
            "  Created wheel for dltk: filename=dltk-0.2.1-py2.py3-none-any.whl size=37255 sha256=17b6d71802a76eda2ec41175ecde6e35f4ee23d37aed7c36da5a83b4f6e39b5e\n",
            "  Stored in directory: /root/.cache/pip/wheels/9d/72/c6/8d739d38edc23d5f5e58aeaeff23df0236bb2449edccf93898\n",
            "Successfully built dltk\n",
            "Installing collected packages: SimpleITK, argparse, dltk\n",
            "Successfully installed SimpleITK-2.0.2 argparse-1.4.0 dltk-0.2.1\n"
          ],
          "name": "stdout"
        },
        {
          "output_type": "display_data",
          "data": {
            "application/vnd.colab-display-data+json": {
              "pip_warning": {
                "packages": [
                  "argparse"
                ]
              }
            }
          },
          "metadata": {
            "tags": []
          }
        }
      ]
    },
    {
      "cell_type": "code",
      "metadata": {
        "id": "xWo9N2W6g076"
      },
      "source": [
        "!mkdir 'weights'"
      ],
      "execution_count": null,
      "outputs": []
    },
    {
      "cell_type": "code",
      "metadata": {
        "id": "3lkge0LBhZU9"
      },
      "source": [
        "import os\n",
        "import matplotlib.pyplot as plt\n",
        "import glob\n",
        "import h5py\n",
        "import shutil\n",
        "import numpy as np # linear algebra\n",
        "import pandas as pd # data processing, CSV file I/O (e.g. pd.read_csv)\n",
        "import seaborn as sns\n",
        "from os import listdir, makedirs, getcwd, remove\n",
        "from os.path import isfile, join, abspath, exists, isdir, expanduser\n",
        "from PIL import Image\n",
        "from pathlib import Path\n",
        "from tensorflow.keras.preprocessing.image import ImageDataGenerator, load_img, img_to_array\n",
        "from tensorflow.keras.optimizers import Adam\n",
        "from tensorflow.keras.optimizers.schedules import ExponentialDecay\n",
        "from tensorflow.keras.callbacks import ModelCheckpoint, Callback, EarlyStopping\n",
        "from tensorflow.keras.layers.experimental.preprocessing import Normalization\n",
        "from sklearn.model_selection import train_test_split\n",
        "from mlxtend.plotting import plot_confusion_matrix\n",
        "from sklearn.metrics import confusion_matrix\n",
        "import cv2\n",
        "import pandas as pd\n",
        "from tensorflow.keras.callbacks import ReduceLROnPlateau\n",
        "from tensorflow.keras.callbacks import EarlyStopping"
      ],
      "execution_count": 1,
      "outputs": []
    },
    {
      "cell_type": "code",
      "metadata": {
        "id": "ylbVCxz3hZU-",
        "colab": {
          "base_uri": "https://localhost:8080/"
        },
        "outputId": "83e7f2ae-01d5-41da-eee7-9f57e03694d5"
      },
      "source": [
        "import numpy as np\n",
        "import sys\n",
        "import os\n",
        "import PIL\n",
        "import PIL.Image as Image\n",
        "import seaborn as sns\n",
        "import warnings\n",
        "import nibabel as nib\n",
        "import pandas as pd\n",
        "import matplotlib.pyplot as plt\n",
        "import tensorflow as tf\n",
        "from dltk.io.preprocessing import whitening\n",
        "from dltk.io.augmentation import flip\n",
        "import time\n",
        "print('All imported!')"
      ],
      "execution_count": 2,
      "outputs": [
        {
          "output_type": "stream",
          "text": [
            "All imported!\n"
          ],
          "name": "stdout"
        }
      ]
    },
    {
      "cell_type": "code",
      "metadata": {
        "colab": {
          "base_uri": "https://localhost:8080/"
        },
        "id": "Kf0l4B66ggXz",
        "outputId": "4113ce40-796e-4ad6-971d-c71368a2e236"
      },
      "source": [
        "!git clone https://github.com/Moeinh77/keras-resnet3d.git\n",
        "%cd keras-resnet3d\n",
        "from resnet3d import Resnet3DBuilder\n",
        "!python setup.py build\n",
        "%cd ../\n",
        "!ls"
      ],
      "execution_count": 27,
      "outputs": [
        {
          "output_type": "stream",
          "text": [
            "fatal: destination path 'keras-resnet3d' already exists and is not an empty directory.\n",
            "/content/keras-resnet3d\n",
            "running build\n",
            "running build_py\n",
            "/content\n",
            "dataset  IXI.xls  keras-resnet3d  sample_data  weights\n"
          ],
          "name": "stdout"
        }
      ]
    },
    {
      "cell_type": "code",
      "metadata": {
        "colab": {
          "base_uri": "https://localhost:8080/",
          "height": 313
        },
        "id": "qL90xbPChZU_",
        "outputId": "1a985f04-42e3-45c0-ae45-90126e51d381"
      },
      "source": [
        "img_directory = 'dataset'\n",
        "dataset_info = pd.read_excel('IXI.xls')\n",
        "dataset_info.head()"
      ],
      "execution_count": 3,
      "outputs": [
        {
          "output_type": "execute_result",
          "data": {
            "text/html": [
              "<div>\n",
              "<style scoped>\n",
              "    .dataframe tbody tr th:only-of-type {\n",
              "        vertical-align: middle;\n",
              "    }\n",
              "\n",
              "    .dataframe tbody tr th {\n",
              "        vertical-align: top;\n",
              "    }\n",
              "\n",
              "    .dataframe thead th {\n",
              "        text-align: right;\n",
              "    }\n",
              "</style>\n",
              "<table border=\"1\" class=\"dataframe\">\n",
              "  <thead>\n",
              "    <tr style=\"text-align: right;\">\n",
              "      <th></th>\n",
              "      <th>IXI_ID</th>\n",
              "      <th>SEX_ID (1=m, 2=f)</th>\n",
              "      <th>HEIGHT</th>\n",
              "      <th>WEIGHT</th>\n",
              "      <th>ETHNIC_ID</th>\n",
              "      <th>MARITAL_ID</th>\n",
              "      <th>OCCUPATION_ID</th>\n",
              "      <th>QUALIFICATION_ID</th>\n",
              "      <th>DOB</th>\n",
              "      <th>DATE_AVAILABLE</th>\n",
              "      <th>STUDY_DATE</th>\n",
              "      <th>AGE</th>\n",
              "    </tr>\n",
              "  </thead>\n",
              "  <tbody>\n",
              "    <tr>\n",
              "      <th>0</th>\n",
              "      <td>1</td>\n",
              "      <td>1</td>\n",
              "      <td>170</td>\n",
              "      <td>80</td>\n",
              "      <td>2</td>\n",
              "      <td>3</td>\n",
              "      <td>5</td>\n",
              "      <td>2</td>\n",
              "      <td>1968-02-22</td>\n",
              "      <td>0</td>\n",
              "      <td>NaT</td>\n",
              "      <td>NaN</td>\n",
              "    </tr>\n",
              "    <tr>\n",
              "      <th>1</th>\n",
              "      <td>2</td>\n",
              "      <td>2</td>\n",
              "      <td>164</td>\n",
              "      <td>58</td>\n",
              "      <td>1</td>\n",
              "      <td>4</td>\n",
              "      <td>1</td>\n",
              "      <td>5</td>\n",
              "      <td>1970-01-30</td>\n",
              "      <td>1</td>\n",
              "      <td>2005-11-18</td>\n",
              "      <td>35.800137</td>\n",
              "    </tr>\n",
              "    <tr>\n",
              "      <th>2</th>\n",
              "      <td>12</td>\n",
              "      <td>1</td>\n",
              "      <td>175</td>\n",
              "      <td>70</td>\n",
              "      <td>1</td>\n",
              "      <td>2</td>\n",
              "      <td>1</td>\n",
              "      <td>5</td>\n",
              "      <td>1966-08-20</td>\n",
              "      <td>1</td>\n",
              "      <td>2005-06-01</td>\n",
              "      <td>38.781656</td>\n",
              "    </tr>\n",
              "    <tr>\n",
              "      <th>3</th>\n",
              "      <td>13</td>\n",
              "      <td>1</td>\n",
              "      <td>182</td>\n",
              "      <td>70</td>\n",
              "      <td>1</td>\n",
              "      <td>2</td>\n",
              "      <td>1</td>\n",
              "      <td>5</td>\n",
              "      <td>1958-09-15</td>\n",
              "      <td>1</td>\n",
              "      <td>2005-06-01</td>\n",
              "      <td>46.710472</td>\n",
              "    </tr>\n",
              "    <tr>\n",
              "      <th>4</th>\n",
              "      <td>14</td>\n",
              "      <td>2</td>\n",
              "      <td>163</td>\n",
              "      <td>65</td>\n",
              "      <td>1</td>\n",
              "      <td>4</td>\n",
              "      <td>1</td>\n",
              "      <td>5</td>\n",
              "      <td>1971-03-15</td>\n",
              "      <td>1</td>\n",
              "      <td>2005-06-09</td>\n",
              "      <td>34.236824</td>\n",
              "    </tr>\n",
              "  </tbody>\n",
              "</table>\n",
              "</div>"
            ],
            "text/plain": [
              "   IXI_ID  SEX_ID (1=m, 2=f)  HEIGHT  ...  DATE_AVAILABLE  STUDY_DATE        AGE\n",
              "0       1                  1     170  ...               0         NaT        NaN\n",
              "1       2                  2     164  ...               1  2005-11-18  35.800137\n",
              "2      12                  1     175  ...               1  2005-06-01  38.781656\n",
              "3      13                  1     182  ...               1  2005-06-01  46.710472\n",
              "4      14                  2     163  ...               1  2005-06-09  34.236824\n",
              "\n",
              "[5 rows x 12 columns]"
            ]
          },
          "metadata": {
            "tags": []
          },
          "execution_count": 3
        }
      ]
    },
    {
      "cell_type": "markdown",
      "metadata": {
        "id": "QLD5SYRAhZVB"
      },
      "source": [
        "### Making the dataset generator "
      ]
    },
    {
      "cell_type": "code",
      "metadata": {
        "colab": {
          "base_uri": "https://localhost:8080/"
        },
        "id": "lQHT8qU9hZVB",
        "outputId": "af57bfee-ecd3-4a58-eefb-bc44d0ae282e"
      },
      "source": [
        "# reading the MRI images with nibabel and\n",
        "# identifying file names that are not mentioned in the EXCEL file\n",
        "\n",
        "image_files = []\n",
        "labels = []\n",
        "not_included = []\n",
        "for filename in os.listdir(img_directory):\n",
        "    try:\n",
        "        # reading the label from Excel\n",
        "        img_id = int(filename[3:6])\n",
        "        sex = np.array(dataset_info[dataset_info.IXI_ID == img_id])[0][1]\n",
        "        labels.append(sex-1)\n",
        "        # reading images\n",
        "        img = nib.load(img_directory+\"/\"+filename)\n",
        "        image_files.append(img)\n",
        "    except Exception as e:\n",
        "        print(e)\n",
        "        not_included.append(filename)\n",
        "        \n",
        "len(not_included)"
      ],
      "execution_count": 4,
      "outputs": [
        {
          "output_type": "stream",
          "text": [
            "index 0 is out of bounds for axis 0 with size 0\n",
            "index 0 is out of bounds for axis 0 with size 0\n",
            "index 0 is out of bounds for axis 0 with size 0\n",
            "index 0 is out of bounds for axis 0 with size 0\n",
            "index 0 is out of bounds for axis 0 with size 0\n",
            "index 0 is out of bounds for axis 0 with size 0\n",
            "index 0 is out of bounds for axis 0 with size 0\n",
            "index 0 is out of bounds for axis 0 with size 0\n",
            "index 0 is out of bounds for axis 0 with size 0\n",
            "index 0 is out of bounds for axis 0 with size 0\n",
            "index 0 is out of bounds for axis 0 with size 0\n",
            "index 0 is out of bounds for axis 0 with size 0\n",
            "index 0 is out of bounds for axis 0 with size 0\n",
            "index 0 is out of bounds for axis 0 with size 0\n",
            "index 0 is out of bounds for axis 0 with size 0\n"
          ],
          "name": "stdout"
        },
        {
          "output_type": "execute_result",
          "data": {
            "text/plain": [
              "15"
            ]
          },
          "metadata": {
            "tags": []
          },
          "execution_count": 4
        }
      ]
    },
    {
      "cell_type": "code",
      "metadata": {
        "colab": {
          "base_uri": "https://localhost:8080/"
        },
        "id": "sHuYrVfJAM4G",
        "outputId": "5f96532a-72bb-43ca-ce60-46fb4ab3a501"
      },
      "source": [
        "len(image_files), len(labels)"
      ],
      "execution_count": 5,
      "outputs": [
        {
          "output_type": "execute_result",
          "data": {
            "text/plain": [
              "(566, 566)"
            ]
          },
          "metadata": {
            "tags": []
          },
          "execution_count": 5
        }
      ]
    },
    {
      "cell_type": "code",
      "metadata": {
        "colab": {
          "base_uri": "https://localhost:8080/"
        },
        "id": "q0mHyqNhUUbl",
        "outputId": "03d3f72c-4a28-4318-edba-49c01ff3eaa0"
      },
      "source": [
        "from sklearn.model_selection import train_test_split\n",
        "\n",
        "X_train, X_test, y_train, y_test = train_test_split(image_files, labels, test_size=0.2,\n",
        "                                                    random_state =1, stratify = labels )\n",
        "\n",
        "len(X_train), len(X_test)"
      ],
      "execution_count": 6,
      "outputs": [
        {
          "output_type": "execute_result",
          "data": {
            "text/plain": [
              "(452, 114)"
            ]
          },
          "metadata": {
            "tags": []
          },
          "execution_count": 6
        }
      ]
    },
    {
      "cell_type": "code",
      "metadata": {
        "id": "Q6W2RKM7AM4H"
      },
      "source": [
        "def count_class(labels):\n",
        "    zero = 0\n",
        "    one = 0\n",
        "    for l in labels:\n",
        "        if l == 0:\n",
        "             zero += 1\n",
        "        else:\n",
        "            one += 1\n",
        "    return zero, one, zero/ one"
      ],
      "execution_count": 7,
      "outputs": []
    },
    {
      "cell_type": "code",
      "metadata": {
        "colab": {
          "base_uri": "https://localhost:8080/",
          "height": 701
        },
        "id": "XtK3NP2JAM4H",
        "outputId": "08f3abf3-bf85-45d9-88b2-551d9b06226c"
      },
      "source": [
        "from seaborn import countplot\n",
        "\n",
        "# Plot the results \n",
        "plt.figure(figsize=(4,4))\n",
        "c1 = countplot(y_train)\n",
        "plt.title('Train Data dist', fontsize=14)\n",
        "plt.ylabel('Count', fontsize=12)\n",
        "plt.xlabel('Class', fontsize=12)\n",
        "plt.show()\n",
        "print(count_class(y_train))\n",
        "\n",
        "plt.figure(figsize=(4,4))\n",
        "c2 = countplot(y_test)\n",
        "plt.title('Test Data dist', fontsize=14)\n",
        "plt.ylabel('Count', fontsize=12)\n",
        "plt.xlabel('Class', fontsize=12)\n",
        "plt.show()\n",
        "\n",
        "print(count_class(y_test))"
      ],
      "execution_count": 8,
      "outputs": [
        {
          "output_type": "stream",
          "text": [
            "/usr/local/lib/python3.7/dist-packages/seaborn/_decorators.py:43: FutureWarning: Pass the following variable as a keyword arg: x. From version 0.12, the only valid positional argument will be `data`, and passing other arguments without an explicit keyword will result in an error or misinterpretation.\n",
            "  FutureWarning\n"
          ],
          "name": "stderr"
        },
        {
          "output_type": "display_data",
          "data": {
            "image/png": "[encoded data removed]",
            "text/plain": [
              "<Figure size 288x288 with 1 Axes>"
            ]
          },
          "metadata": {
            "tags": [],
            "needs_background": "light"
          }
        },
        {
          "output_type": "stream",
          "text": [
            "/usr/local/lib/python3.7/dist-packages/seaborn/_decorators.py:43: FutureWarning: Pass the following variable as a keyword arg: x. From version 0.12, the only valid positional argument will be `data`, and passing other arguments without an explicit keyword will result in an error or misinterpretation.\n",
            "  FutureWarning\n"
          ],
          "name": "stderr"
        },
        {
          "output_type": "stream",
          "text": [
            "(202, 250, 0.808)\n"
          ],
          "name": "stdout"
        },
        {
          "output_type": "display_data",
          "data": {
            "image/png": "[encoded data removed]",
            "text/plain": [
              "<Figure size 288x288 with 1 Axes>"
            ]
          },
          "metadata": {
            "tags": [],
            "needs_background": "light"
          }
        },
        {
          "output_type": "stream",
          "text": [
            "(51, 63, 0.8095238095238095)\n"
          ],
          "name": "stdout"
        }
      ]
    },
    {
      "cell_type": "code",
      "metadata": {
        "colab": {
          "base_uri": "https://localhost:8080/"
        },
        "id": "5Fk_YX0JZmrt",
        "outputId": "106c6106-8eab-4c5b-9921-11a967ccd81f"
      },
      "source": [
        "from sklearn.utils import class_weight\n",
        "weight = class_weight.compute_class_weight('balanced', np.unique(y_train), y_train)\n",
        "weights = {i : weight[i] for i in range(2)}\n",
        "weights"
      ],
      "execution_count": 16,
      "outputs": [
        {
          "output_type": "execute_result",
          "data": {
            "text/plain": [
              "{0: 1.118811881188119, 1: 0.904}"
            ]
          },
          "metadata": {
            "tags": []
          },
          "execution_count": 16
        }
      ]
    },
    {
      "cell_type": "code",
      "metadata": {
        "id": "4nAwa_lQAM4I"
      },
      "source": [
        "# y_train = np.array(y_train).reshape(-1, 1)\n",
        "# y_test = np.array(y_test).reshape(-1, 1)\n",
        "\n",
        "# y_train.shape, y_test.shape"
      ],
      "execution_count": null,
      "outputs": []
    },
    {
      "cell_type": "code",
      "metadata": {
        "id": "AVflavVYhZVC"
      },
      "source": [
        "# # making a list out of the files that are in the EXCEL file\n",
        "# filenames = []\n",
        "# for filename in os.listdir(img_directory):\n",
        "#     if filename not in not_included:\n",
        "#         filenames.append(filename)\n",
        "        \n",
        "# len(filenames), len(not_included)"
      ],
      "execution_count": null,
      "outputs": []
    },
    {
      "cell_type": "code",
      "metadata": {
        "colab": {
          "base_uri": "https://localhost:8080/",
          "height": 537
        },
        "id": "NbLRBR9abO8F",
        "outputId": "13b60142-dcc0-43dd-f907-2408bfa63228"
      },
      "source": [
        "img = np.array(image_files[0].dataobj)\n",
        "print(img.shape)\n",
        "img = flip(img, axis=1)\n",
        "plt.imshow(img[:,:, 50])\n",
        "plt.show()\n",
        "plt.imshow(img[:,:, 80])\n",
        "plt.show()"
      ],
      "execution_count": 17,
      "outputs": [
        {
          "output_type": "stream",
          "text": [
            "(256, 256, 150)\n"
          ],
          "name": "stdout"
        },
        {
          "output_type": "display_data",
          "data": {
            "image/png": "[encoded data removed]",
            "text/plain": [
              "<Figure size 432x288 with 1 Axes>"
            ]
          },
          "metadata": {
            "tags": [],
            "needs_background": "light"
          }
        },
        {
          "output_type": "display_data",
          "data": {
            "image/png": "[encoded data removed]",
            "text/plain": [
              "<Figure size 432x288 with 1 Axes>"
            ]
          },
          "metadata": {
            "tags": [],
            "needs_background": "light"
          }
        }
      ]
    },
    {
      "cell_type": "markdown",
      "metadata": {
        "id": "ZbjHrKhwhZVC"
      },
      "source": [
        "### Defining the generator"
      ]
    },
    {
      "cell_type": "code",
      "metadata": {
        "id": "saECXVAjhZVC"
      },
      "source": [
        "bs = 4"
      ],
      "execution_count": 18,
      "outputs": []
    },
    {
      "cell_type": "code",
      "metadata": {
        "id": "GEaXmv5HhZVD"
      },
      "source": [
        "def my_data_gen(images, labels, batch_size= 16, method = None, test_run = False, train_ = True):#, resize= False, resize_scale = 2):\n",
        "    \n",
        "    data = []\n",
        "    labels_in_func = []\n",
        "    i = 0 # for the batch\n",
        "    j = 0 # for selecting the image\n",
        "    \n",
        "    while True:\n",
        "        try:\n",
        "            if j >= len(images):\n",
        "                j = 0\n",
        "            if test_run:\n",
        "                print('j=',j)\n",
        "                print()\n",
        "                # continue\n",
        "            \n",
        "            labels_in_func.append(labels[j])\n",
        "\n",
        "            img = images[j]\n",
        "            j += 1\n",
        "\n",
        "##             rescaling the image, although the problem is the output images does not have the same size\n",
        "#             if resize:\n",
        "#                 img = resample_img(img, target_affine=np.eye(3)*resize_scale, interpolation='nearest')\n",
        "#                 print(img.shape)\n",
        "            \n",
        "            img = np.array(img.dataobj)\n",
        "            dx , dy = img.shape[0], img.shape[1]\n",
        "            \n",
        "            # add zero channels to images with fewer channels than others\n",
        "            if method == 'add_channels':\n",
        "                dz = 150\n",
        "                if img.shape[2] != 150:\n",
        "                    img = np.concatenate((img, np.zeros((img.shape[0],img.shape[1],150-img.shape[2]))), axis =2)\n",
        "            elif method == 'del_channels':\n",
        "                dz = 40\n",
        "                img = img[:,:,40:80]\n",
        "            \n",
        "            img = whitening(img)\n",
        "\n",
        "            if train_:\n",
        "                img = flip(img, axis=1)\n",
        "                \n",
        "#             img_id = int(filename[3:6])\n",
        "#             sex = np.array(dataset_info[dataset_info.IXI_ID == img_id])[0][1]\n",
        "            \n",
        "            data.append(img)\n",
        "            \n",
        "            i += 1\n",
        "            if i == batch_size:\n",
        "                i = 0\n",
        "                yield np.array(data).reshape(batch_size, dx, dy, dz, 1), np.array(labels_in_func).reshape(-1, 1)\n",
        "                data = []\n",
        "                labels_in_func = []\n",
        "                \n",
        "        except Exception as e:\n",
        "            print(filename)\n",
        "            print(e)"
      ],
      "execution_count": 20,
      "outputs": []
    },
    {
      "cell_type": "code",
      "metadata": {
        "id": "WT1waw4chZVE"
      },
      "source": [
        "data_gen_train = my_data_gen(X_train, y_train, batch_size = bs, method ='add_channels', train_ = True)\n",
        "data_gen_test = my_data_gen(X_test, y_test, batch_size = bs, method ='add_channels', train_ =  False)"
      ],
      "execution_count": 21,
      "outputs": []
    },
    {
      "cell_type": "code",
      "metadata": {
        "id": "AeE7Nh-SKksA"
      },
      "source": [
        "# for i in my_data_gen(X_test, y_test, batch_size = bs, method ='add_channels', test_run= True):\n",
        "#     print(i[0].shape, i[1].shape)"
      ],
      "execution_count": 22,
      "outputs": []
    },
    {
      "cell_type": "code",
      "metadata": {
        "id": "t-TM09D5hZVE"
      },
      "source": [
        "# i1, l1 = next(data_gen_train)\n",
        "# i1.shape, l1.shape"
      ],
      "execution_count": 23,
      "outputs": []
    },
    {
      "cell_type": "code",
      "metadata": {
        "id": "nLAQNLIWE5aY"
      },
      "source": [
        "# i2, l2 = next(data_gen_test)\n",
        "# i2.shape, l2.shape"
      ],
      "execution_count": 24,
      "outputs": []
    },
    {
      "cell_type": "markdown",
      "metadata": {
        "id": "AcWsR2wXFFfo"
      },
      "source": [
        "### Defining the model"
      ]
    },
    {
      "cell_type": "code",
      "metadata": {
        "colab": {
          "base_uri": "https://localhost:8080/"
        },
        "id": "SHaXBD03iQ_I",
        "outputId": "2c77a0c2-81ba-4b77-f44b-cdcdc04f85ca"
      },
      "source": [
        ""
      ],
      "execution_count": 37,
      "outputs": [
        {
          "output_type": "stream",
          "text": [
            "Cloning into 'keras-resnet3d'...\n",
            "remote: Enumerating objects: 109, done.\u001b[K\n",
            "remote: Counting objects: 100% (4/4), done.\u001b[K\n",
            "remote: Compressing objects: 100% (4/4), done.\u001b[K\n",
            "remote: Total 109 (delta 0), reused 0 (delta 0), pack-reused 105\u001b[K\n",
            "Receiving objects: 100% (109/109), 24.94 KiB | 4.16 MiB/s, done.\n",
            "Resolving deltas: 100% (42/42), done.\n",
            "/content/keras-resnet3d\n",
            "running build\n",
            "running build_py\n",
            "creating build\n",
            "creating build/lib\n",
            "creating build/lib/resnet3d\n",
            "copying resnet3d/__init__.py -> build/lib/resnet3d\n",
            "copying resnet3d/resnet3d.py -> build/lib/resnet3d\n"
          ],
          "name": "stdout"
        }
      ]
    },
    {
      "cell_type": "code",
      "metadata": {
        "colab": {
          "base_uri": "https://localhost:8080/"
        },
        "id": "HLIVYn7ehZVF",
        "outputId": "e9066412-287b-4de7-ab7d-485a7fcd30f0"
      },
      "source": [
        "in_size = 256\n",
        "in_dim = 150\n",
        "\n",
        "model = Resnet3DBuilder.build_resnet_18((in_size, in_size, in_dim, 1), num_outputs = 1, reg_factor= 0.0001)\n",
        "\n",
        "opt = Adam(3e-3) \n",
        "model.compile(loss= 'binary_crossentropy', metrics=['accuracy'], optimizer=opt)\n",
        "\n",
        "model.summary()"
      ],
      "execution_count": 28,
      "outputs": [
        {
          "output_type": "stream",
          "text": [
            "Model: \"model\"\n",
            "__________________________________________________________________________________________________\n",
            "Layer (type)                    Output Shape         Param #     Connected to                     \n",
            "==================================================================================================\n",
            "input_1 (InputLayer)            [(None, 256, 256, 15 0                                            \n",
            "__________________________________________________________________________________________________\n",
            "conv3d (Conv3D)                 (None, 128, 128, 75, 22016       input_1[0][0]                    \n",
            "__________________________________________________________________________________________________\n",
            "batch_normalization (BatchNorma (None, 128, 128, 75, 256         conv3d[0][0]                     \n",
            "__________________________________________________________________________________________________\n",
            "activation (Activation)         (None, 128, 128, 75, 0           batch_normalization[0][0]        \n",
            "__________________________________________________________________________________________________\n",
            "max_pooling3d (MaxPooling3D)    (None, 64, 64, 38, 6 0           activation[0][0]                 \n",
            "__________________________________________________________________________________________________\n",
            "conv3d_1 (Conv3D)               (None, 64, 64, 38, 6 110656      max_pooling3d[0][0]              \n",
            "__________________________________________________________________________________________________\n",
            "batch_normalization_1 (BatchNor (None, 64, 64, 38, 6 256         conv3d_1[0][0]                   \n",
            "__________________________________________________________________________________________________\n",
            "activation_1 (Activation)       (None, 64, 64, 38, 6 0           batch_normalization_1[0][0]      \n",
            "__________________________________________________________________________________________________\n",
            "conv3d_2 (Conv3D)               (None, 64, 64, 38, 6 110656      activation_1[0][0]               \n",
            "__________________________________________________________________________________________________\n",
            "add (Add)                       (None, 64, 64, 38, 6 0           max_pooling3d[0][0]              \n",
            "                                                                 conv3d_2[0][0]                   \n",
            "__________________________________________________________________________________________________\n",
            "batch_normalization_2 (BatchNor (None, 64, 64, 38, 6 256         add[0][0]                        \n",
            "__________________________________________________________________________________________________\n",
            "activation_2 (Activation)       (None, 64, 64, 38, 6 0           batch_normalization_2[0][0]      \n",
            "__________________________________________________________________________________________________\n",
            "conv3d_3 (Conv3D)               (None, 64, 64, 38, 6 110656      activation_2[0][0]               \n",
            "__________________________________________________________________________________________________\n",
            "batch_normalization_3 (BatchNor (None, 64, 64, 38, 6 256         conv3d_3[0][0]                   \n",
            "__________________________________________________________________________________________________\n",
            "activation_3 (Activation)       (None, 64, 64, 38, 6 0           batch_normalization_3[0][0]      \n",
            "__________________________________________________________________________________________________\n",
            "conv3d_4 (Conv3D)               (None, 64, 64, 38, 6 110656      activation_3[0][0]               \n",
            "__________________________________________________________________________________________________\n",
            "add_1 (Add)                     (None, 64, 64, 38, 6 0           add[0][0]                        \n",
            "                                                                 conv3d_4[0][0]                   \n",
            "__________________________________________________________________________________________________\n",
            "batch_normalization_4 (BatchNor (None, 64, 64, 38, 6 256         add_1[0][0]                      \n",
            "__________________________________________________________________________________________________\n",
            "activation_4 (Activation)       (None, 64, 64, 38, 6 0           batch_normalization_4[0][0]      \n",
            "__________________________________________________________________________________________________\n",
            "conv3d_5 (Conv3D)               (None, 32, 32, 19, 1 221312      activation_4[0][0]               \n",
            "__________________________________________________________________________________________________\n",
            "batch_normalization_5 (BatchNor (None, 32, 32, 19, 1 512         conv3d_5[0][0]                   \n",
            "__________________________________________________________________________________________________\n",
            "activation_5 (Activation)       (None, 32, 32, 19, 1 0           batch_normalization_5[0][0]      \n",
            "__________________________________________________________________________________________________\n",
            "conv3d_7 (Conv3D)               (None, 32, 32, 19, 1 8320        add_1[0][0]                      \n",
            "__________________________________________________________________________________________________\n",
            "conv3d_6 (Conv3D)               (None, 32, 32, 19, 1 442496      activation_5[0][0]               \n",
            "__________________________________________________________________________________________________\n",
            "add_2 (Add)                     (None, 32, 32, 19, 1 0           conv3d_7[0][0]                   \n",
            "                                                                 conv3d_6[0][0]                   \n",
            "__________________________________________________________________________________________________\n",
            "batch_normalization_6 (BatchNor (None, 32, 32, 19, 1 512         add_2[0][0]                      \n",
            "__________________________________________________________________________________________________\n",
            "activation_6 (Activation)       (None, 32, 32, 19, 1 0           batch_normalization_6[0][0]      \n",
            "__________________________________________________________________________________________________\n",
            "conv3d_8 (Conv3D)               (None, 32, 32, 19, 1 442496      activation_6[0][0]               \n",
            "__________________________________________________________________________________________________\n",
            "batch_normalization_7 (BatchNor (None, 32, 32, 19, 1 512         conv3d_8[0][0]                   \n",
            "__________________________________________________________________________________________________\n",
            "activation_7 (Activation)       (None, 32, 32, 19, 1 0           batch_normalization_7[0][0]      \n",
            "__________________________________________________________________________________________________\n",
            "conv3d_9 (Conv3D)               (None, 32, 32, 19, 1 442496      activation_7[0][0]               \n",
            "__________________________________________________________________________________________________\n",
            "add_3 (Add)                     (None, 32, 32, 19, 1 0           add_2[0][0]                      \n",
            "                                                                 conv3d_9[0][0]                   \n",
            "__________________________________________________________________________________________________\n",
            "batch_normalization_8 (BatchNor (None, 32, 32, 19, 1 512         add_3[0][0]                      \n",
            "__________________________________________________________________________________________________\n",
            "activation_8 (Activation)       (None, 32, 32, 19, 1 0           batch_normalization_8[0][0]      \n",
            "__________________________________________________________________________________________________\n",
            "conv3d_10 (Conv3D)              (None, 16, 16, 10, 2 884992      activation_8[0][0]               \n",
            "__________________________________________________________________________________________________\n",
            "batch_normalization_9 (BatchNor (None, 16, 16, 10, 2 1024        conv3d_10[0][0]                  \n",
            "__________________________________________________________________________________________________\n",
            "activation_9 (Activation)       (None, 16, 16, 10, 2 0           batch_normalization_9[0][0]      \n",
            "__________________________________________________________________________________________________\n",
            "conv3d_12 (Conv3D)              (None, 16, 16, 10, 2 33024       add_3[0][0]                      \n",
            "__________________________________________________________________________________________________\n",
            "conv3d_11 (Conv3D)              (None, 16, 16, 10, 2 1769728     activation_9[0][0]               \n",
            "__________________________________________________________________________________________________\n",
            "add_4 (Add)                     (None, 16, 16, 10, 2 0           conv3d_12[0][0]                  \n",
            "                                                                 conv3d_11[0][0]                  \n",
            "__________________________________________________________________________________________________\n",
            "batch_normalization_10 (BatchNo (None, 16, 16, 10, 2 1024        add_4[0][0]                      \n",
            "__________________________________________________________________________________________________\n",
            "activation_10 (Activation)      (None, 16, 16, 10, 2 0           batch_normalization_10[0][0]     \n",
            "__________________________________________________________________________________________________\n",
            "conv3d_13 (Conv3D)              (None, 16, 16, 10, 2 1769728     activation_10[0][0]              \n",
            "__________________________________________________________________________________________________\n",
            "batch_normalization_11 (BatchNo (None, 16, 16, 10, 2 1024        conv3d_13[0][0]                  \n",
            "__________________________________________________________________________________________________\n",
            "activation_11 (Activation)      (None, 16, 16, 10, 2 0           batch_normalization_11[0][0]     \n",
            "__________________________________________________________________________________________________\n",
            "conv3d_14 (Conv3D)              (None, 16, 16, 10, 2 1769728     activation_11[0][0]              \n",
            "__________________________________________________________________________________________________\n",
            "add_5 (Add)                     (None, 16, 16, 10, 2 0           add_4[0][0]                      \n",
            "                                                                 conv3d_14[0][0]                  \n",
            "__________________________________________________________________________________________________\n",
            "batch_normalization_12 (BatchNo (None, 16, 16, 10, 2 1024        add_5[0][0]                      \n",
            "__________________________________________________________________________________________________\n",
            "activation_12 (Activation)      (None, 16, 16, 10, 2 0           batch_normalization_12[0][0]     \n",
            "__________________________________________________________________________________________________\n",
            "conv3d_15 (Conv3D)              (None, 8, 8, 5, 512) 3539456     activation_12[0][0]              \n",
            "__________________________________________________________________________________________________\n",
            "batch_normalization_13 (BatchNo (None, 8, 8, 5, 512) 2048        conv3d_15[0][0]                  \n",
            "__________________________________________________________________________________________________\n",
            "activation_13 (Activation)      (None, 8, 8, 5, 512) 0           batch_normalization_13[0][0]     \n",
            "__________________________________________________________________________________________________\n",
            "conv3d_17 (Conv3D)              (None, 8, 8, 5, 512) 131584      add_5[0][0]                      \n",
            "__________________________________________________________________________________________________\n",
            "conv3d_16 (Conv3D)              (None, 8, 8, 5, 512) 7078400     activation_13[0][0]              \n",
            "__________________________________________________________________________________________________\n",
            "add_6 (Add)                     (None, 8, 8, 5, 512) 0           conv3d_17[0][0]                  \n",
            "                                                                 conv3d_16[0][0]                  \n",
            "__________________________________________________________________________________________________\n",
            "batch_normalization_14 (BatchNo (None, 8, 8, 5, 512) 2048        add_6[0][0]                      \n",
            "__________________________________________________________________________________________________\n",
            "activation_14 (Activation)      (None, 8, 8, 5, 512) 0           batch_normalization_14[0][0]     \n",
            "__________________________________________________________________________________________________\n",
            "conv3d_18 (Conv3D)              (None, 8, 8, 5, 512) 7078400     activation_14[0][0]              \n",
            "__________________________________________________________________________________________________\n",
            "batch_normalization_15 (BatchNo (None, 8, 8, 5, 512) 2048        conv3d_18[0][0]                  \n",
            "__________________________________________________________________________________________________\n",
            "activation_15 (Activation)      (None, 8, 8, 5, 512) 0           batch_normalization_15[0][0]     \n",
            "__________________________________________________________________________________________________\n",
            "conv3d_19 (Conv3D)              (None, 8, 8, 5, 512) 7078400     activation_15[0][0]              \n",
            "__________________________________________________________________________________________________\n",
            "add_7 (Add)                     (None, 8, 8, 5, 512) 0           add_6[0][0]                      \n",
            "                                                                 conv3d_19[0][0]                  \n",
            "__________________________________________________________________________________________________\n",
            "batch_normalization_16 (BatchNo (None, 8, 8, 5, 512) 2048        add_7[0][0]                      \n",
            "__________________________________________________________________________________________________\n",
            "activation_16 (Activation)      (None, 8, 8, 5, 512) 0           batch_normalization_16[0][0]     \n",
            "__________________________________________________________________________________________________\n",
            "average_pooling3d (AveragePooli (None, 1, 1, 1, 512) 0           activation_16[0][0]              \n",
            "__________________________________________________________________________________________________\n",
            "flatten (Flatten)               (None, 512)          0           average_pooling3d[0][0]          \n",
            "__________________________________________________________________________________________________\n",
            "dense (Dense)                   (None, 1)            513         flatten[0][0]                    \n",
            "==================================================================================================\n",
            "Total params: 33,171,329\n",
            "Trainable params: 33,163,521\n",
            "Non-trainable params: 7,808\n",
            "__________________________________________________________________________________________________\n"
          ],
          "name": "stdout"
        }
      ]
    },
    {
      "cell_type": "code",
      "metadata": {
        "id": "KEGPBzzVFajv"
      },
      "source": [
        "steps = len(X_train) // bs\n",
        "valid_steps = len(X_test) // (bs)\n",
        "\n",
        "reduce_lr = ReduceLROnPlateau(\n",
        "    monitor='val_loss', factor=0.1, patience=3, verbose=1,\n",
        "    mode='auto', min_delta=0.001, cooldown=0, min_lr=1e-8)\n",
        "\n",
        "\n",
        "chkpt = ModelCheckpoint(filepath='weights', save_best_only=True,\n",
        "                        save_weights_only=True, monitor= 'val_accuracy', mode='max')"
      ],
      "execution_count": 30,
      "outputs": []
    },
    {
      "cell_type": "code",
      "metadata": {
        "colab": {
          "base_uri": "https://localhost:8080/",
          "height": 573
        },
        "id": "M-hQlgPBhZVG",
        "scrolled": true,
        "outputId": "1c738a8f-017c-43e4-df4f-e774ab5ada88"
      },
      "source": [
        "start = time.time()\n",
        "\n",
        "nb_epochs = 3 \n",
        "\n",
        "# Fit the model\n",
        "history= model.fit(data_gen_train, epochs= nb_epochs, steps_per_epoch= steps,\n",
        "                              validation_data=data_gen_test, validation_steps=valid_steps,\n",
        "                              callbacks=[chkpt, reduce_lr], #, [chkpt, clr, es , reduce_lr]\n",
        "                              class_weight=weights)\n",
        "end = time.time()\n",
        "\n",
        "print('*'*40)\n",
        "print('Took {:.2f} minutes'. format((end-start)/60))"
      ],
      "execution_count": 31,
      "outputs": [
        {
          "output_type": "stream",
          "text": [
            "WARNING:tensorflow:From /usr/local/lib/python3.7/dist-packages/tensorflow/python/ops/array_ops.py:5049: calling gather (from tensorflow.python.ops.array_ops) with validate_indices is deprecated and will be removed in a future version.\n",
            "Instructions for updating:\n",
            "The `validate_indices` argument has no effect. Indices are always validated on CPU and never validated on GPU.\n",
            "Epoch 1/10\n",
            "113/113 [==============================] - 658s 6s/step - loss: 1.4878 - accuracy: 0.6475 - val_loss: 71.2312 - val_accuracy: 0.5536\n",
            "Epoch 2/10\n",
            "113/113 [==============================] - 623s 6s/step - loss: 0.7402 - accuracy: 0.7848 - val_loss: 5.0966 - val_accuracy: 0.5536\n",
            "Epoch 3/10\n",
            "113/113 [==============================] - 623s 6s/step - loss: 0.6419 - accuracy: 0.7903 - val_loss: 1.8325 - val_accuracy: 0.4464\n",
            "Epoch 4/10\n",
            "  1/113 [..............................] - ETA: 9:31 - loss: 1.1038 - accuracy: 0.5000"
          ],
          "name": "stdout"
        },
        {
          "output_type": "error",
          "ename": "KeyboardInterrupt",
          "evalue": "ignored",
          "traceback": [
            "\u001b[0;31m---------------------------------------------------------------------------\u001b[0m",
            "\u001b[0;31mKeyboardInterrupt\u001b[0m                         Traceback (most recent call last)",
            "\u001b[0;32m<ipython-input-31-c292c08c50fd>\u001b[0m in \u001b[0;36m<module>\u001b[0;34m()\u001b[0m\n\u001b[1;32m      7\u001b[0m                               \u001b[0mvalidation_data\u001b[0m\u001b[0;34m=\u001b[0m\u001b[0mdata_gen_test\u001b[0m\u001b[0;34m,\u001b[0m \u001b[0mvalidation_steps\u001b[0m\u001b[0;34m=\u001b[0m\u001b[0mvalid_steps\u001b[0m\u001b[0;34m,\u001b[0m\u001b[0;34m\u001b[0m\u001b[0;34m\u001b[0m\u001b[0m\n\u001b[1;32m      8\u001b[0m                               \u001b[0mcallbacks\u001b[0m\u001b[0;34m=\u001b[0m\u001b[0;34m[\u001b[0m\u001b[0mchkpt\u001b[0m\u001b[0;34m,\u001b[0m \u001b[0mreduce_lr\u001b[0m\u001b[0;34m]\u001b[0m\u001b[0;34m,\u001b[0m \u001b[0;31m#, [chkpt, clr, es , reduce_lr]\u001b[0m\u001b[0;34m\u001b[0m\u001b[0;34m\u001b[0m\u001b[0m\n\u001b[0;32m----> 9\u001b[0;31m                               class_weight=weights)\n\u001b[0m\u001b[1;32m     10\u001b[0m \u001b[0mend\u001b[0m \u001b[0;34m=\u001b[0m \u001b[0mtime\u001b[0m\u001b[0;34m.\u001b[0m\u001b[0mtime\u001b[0m\u001b[0;34m(\u001b[0m\u001b[0;34m)\u001b[0m\u001b[0;34m\u001b[0m\u001b[0;34m\u001b[0m\u001b[0m\n\u001b[1;32m     11\u001b[0m \u001b[0;34m\u001b[0m\u001b[0m\n",
            "\u001b[0;32m/usr/local/lib/python3.7/dist-packages/keras/engine/training.py\u001b[0m in \u001b[0;36mfit\u001b[0;34m(self, x, y, batch_size, epochs, verbose, callbacks, validation_split, validation_data, shuffle, class_weight, sample_weight, initial_epoch, steps_per_epoch, validation_steps, validation_batch_size, validation_freq, max_queue_size, workers, use_multiprocessing)\u001b[0m\n\u001b[1;32m   1156\u001b[0m                 _r=1):\n\u001b[1;32m   1157\u001b[0m               \u001b[0mcallbacks\u001b[0m\u001b[0;34m.\u001b[0m\u001b[0mon_train_batch_begin\u001b[0m\u001b[0;34m(\u001b[0m\u001b[0mstep\u001b[0m\u001b[0;34m)\u001b[0m\u001b[0;34m\u001b[0m\u001b[0;34m\u001b[0m\u001b[0m\n\u001b[0;32m-> 1158\u001b[0;31m               \u001b[0mtmp_logs\u001b[0m \u001b[0;34m=\u001b[0m \u001b[0mself\u001b[0m\u001b[0;34m.\u001b[0m\u001b[0mtrain_function\u001b[0m\u001b[0;34m(\u001b[0m\u001b[0miterator\u001b[0m\u001b[0;34m)\u001b[0m\u001b[0;34m\u001b[0m\u001b[0;34m\u001b[0m\u001b[0m\n\u001b[0m\u001b[1;32m   1159\u001b[0m               \u001b[0;32mif\u001b[0m \u001b[0mdata_handler\u001b[0m\u001b[0;34m.\u001b[0m\u001b[0mshould_sync\u001b[0m\u001b[0;34m:\u001b[0m\u001b[0;34m\u001b[0m\u001b[0;34m\u001b[0m\u001b[0m\n\u001b[1;32m   1160\u001b[0m                 \u001b[0mcontext\u001b[0m\u001b[0;34m.\u001b[0m\u001b[0masync_wait\u001b[0m\u001b[0;34m(\u001b[0m\u001b[0;34m)\u001b[0m\u001b[0;34m\u001b[0m\u001b[0;34m\u001b[0m\u001b[0m\n",
            "\u001b[0;32m/usr/local/lib/python3.7/dist-packages/tensorflow/python/eager/def_function.py\u001b[0m in \u001b[0;36m__call__\u001b[0;34m(self, *args, **kwds)\u001b[0m\n\u001b[1;32m    887\u001b[0m \u001b[0;34m\u001b[0m\u001b[0m\n\u001b[1;32m    888\u001b[0m       \u001b[0;32mwith\u001b[0m \u001b[0mOptionalXlaContext\u001b[0m\u001b[0;34m(\u001b[0m\u001b[0mself\u001b[0m\u001b[0;34m.\u001b[0m\u001b[0m_jit_compile\u001b[0m\u001b[0;34m)\u001b[0m\u001b[0;34m:\u001b[0m\u001b[0;34m\u001b[0m\u001b[0;34m\u001b[0m\u001b[0m\n\u001b[0;32m--> 889\u001b[0;31m         \u001b[0mresult\u001b[0m \u001b[0;34m=\u001b[0m \u001b[0mself\u001b[0m\u001b[0;34m.\u001b[0m\u001b[0m_call\u001b[0m\u001b[0;34m(\u001b[0m\u001b[0;34m*\u001b[0m\u001b[0margs\u001b[0m\u001b[0;34m,\u001b[0m \u001b[0;34m**\u001b[0m\u001b[0mkwds\u001b[0m\u001b[0;34m)\u001b[0m\u001b[0;34m\u001b[0m\u001b[0;34m\u001b[0m\u001b[0m\n\u001b[0m\u001b[1;32m    890\u001b[0m \u001b[0;34m\u001b[0m\u001b[0m\n\u001b[1;32m    891\u001b[0m       \u001b[0mnew_tracing_count\u001b[0m \u001b[0;34m=\u001b[0m \u001b[0mself\u001b[0m\u001b[0;34m.\u001b[0m\u001b[0mexperimental_get_tracing_count\u001b[0m\u001b[0;34m(\u001b[0m\u001b[0;34m)\u001b[0m\u001b[0;34m\u001b[0m\u001b[0;34m\u001b[0m\u001b[0m\n",
            "\u001b[0;32m/usr/local/lib/python3.7/dist-packages/tensorflow/python/eager/def_function.py\u001b[0m in \u001b[0;36m_call\u001b[0;34m(self, *args, **kwds)\u001b[0m\n\u001b[1;32m    915\u001b[0m       \u001b[0;31m# In this case we have created variables on the first call, so we run the\u001b[0m\u001b[0;34m\u001b[0m\u001b[0;34m\u001b[0m\u001b[0;34m\u001b[0m\u001b[0m\n\u001b[1;32m    916\u001b[0m       \u001b[0;31m# defunned version which is guaranteed to never create variables.\u001b[0m\u001b[0;34m\u001b[0m\u001b[0;34m\u001b[0m\u001b[0;34m\u001b[0m\u001b[0m\n\u001b[0;32m--> 917\u001b[0;31m       \u001b[0;32mreturn\u001b[0m \u001b[0mself\u001b[0m\u001b[0;34m.\u001b[0m\u001b[0m_stateless_fn\u001b[0m\u001b[0;34m(\u001b[0m\u001b[0;34m*\u001b[0m\u001b[0margs\u001b[0m\u001b[0;34m,\u001b[0m \u001b[0;34m**\u001b[0m\u001b[0mkwds\u001b[0m\u001b[0;34m)\u001b[0m  \u001b[0;31m# pylint: disable=not-callable\u001b[0m\u001b[0;34m\u001b[0m\u001b[0;34m\u001b[0m\u001b[0m\n\u001b[0m\u001b[1;32m    918\u001b[0m     \u001b[0;32melif\u001b[0m \u001b[0mself\u001b[0m\u001b[0;34m.\u001b[0m\u001b[0m_stateful_fn\u001b[0m \u001b[0;32mis\u001b[0m \u001b[0;32mnot\u001b[0m \u001b[0;32mNone\u001b[0m\u001b[0;34m:\u001b[0m\u001b[0;34m\u001b[0m\u001b[0;34m\u001b[0m\u001b[0m\n\u001b[1;32m    919\u001b[0m       \u001b[0;31m# Release the lock early so that multiple threads can perform the call\u001b[0m\u001b[0;34m\u001b[0m\u001b[0;34m\u001b[0m\u001b[0;34m\u001b[0m\u001b[0m\n",
            "\u001b[0;32m/usr/local/lib/python3.7/dist-packages/tensorflow/python/eager/function.py\u001b[0m in \u001b[0;36m__call__\u001b[0;34m(self, *args, **kwargs)\u001b[0m\n\u001b[1;32m   3022\u001b[0m        filtered_flat_args) = self._maybe_define_function(args, kwargs)\n\u001b[1;32m   3023\u001b[0m     return graph_function._call_flat(\n\u001b[0;32m-> 3024\u001b[0;31m         filtered_flat_args, captured_inputs=graph_function.captured_inputs)  # pylint: disable=protected-access\n\u001b[0m\u001b[1;32m   3025\u001b[0m \u001b[0;34m\u001b[0m\u001b[0m\n\u001b[1;32m   3026\u001b[0m   \u001b[0;34m@\u001b[0m\u001b[0mproperty\u001b[0m\u001b[0;34m\u001b[0m\u001b[0;34m\u001b[0m\u001b[0m\n",
            "\u001b[0;32m/usr/local/lib/python3.7/dist-packages/tensorflow/python/eager/function.py\u001b[0m in \u001b[0;36m_call_flat\u001b[0;34m(self, args, captured_inputs, cancellation_manager)\u001b[0m\n\u001b[1;32m   1959\u001b[0m       \u001b[0;31m# No tape is watching; skip to running the function.\u001b[0m\u001b[0;34m\u001b[0m\u001b[0;34m\u001b[0m\u001b[0;34m\u001b[0m\u001b[0m\n\u001b[1;32m   1960\u001b[0m       return self._build_call_outputs(self._inference_function.call(\n\u001b[0;32m-> 1961\u001b[0;31m           ctx, args, cancellation_manager=cancellation_manager))\n\u001b[0m\u001b[1;32m   1962\u001b[0m     forward_backward = self._select_forward_and_backward_functions(\n\u001b[1;32m   1963\u001b[0m         \u001b[0margs\u001b[0m\u001b[0;34m,\u001b[0m\u001b[0;34m\u001b[0m\u001b[0;34m\u001b[0m\u001b[0m\n",
            "\u001b[0;32m/usr/local/lib/python3.7/dist-packages/tensorflow/python/eager/function.py\u001b[0m in \u001b[0;36mcall\u001b[0;34m(self, ctx, args, cancellation_manager)\u001b[0m\n\u001b[1;32m    594\u001b[0m               \u001b[0minputs\u001b[0m\u001b[0;34m=\u001b[0m\u001b[0margs\u001b[0m\u001b[0;34m,\u001b[0m\u001b[0;34m\u001b[0m\u001b[0;34m\u001b[0m\u001b[0m\n\u001b[1;32m    595\u001b[0m               \u001b[0mattrs\u001b[0m\u001b[0;34m=\u001b[0m\u001b[0mattrs\u001b[0m\u001b[0;34m,\u001b[0m\u001b[0;34m\u001b[0m\u001b[0;34m\u001b[0m\u001b[0m\n\u001b[0;32m--> 596\u001b[0;31m               ctx=ctx)\n\u001b[0m\u001b[1;32m    597\u001b[0m         \u001b[0;32melse\u001b[0m\u001b[0;34m:\u001b[0m\u001b[0;34m\u001b[0m\u001b[0;34m\u001b[0m\u001b[0m\n\u001b[1;32m    598\u001b[0m           outputs = execute.execute_with_cancellation(\n",
            "\u001b[0;32m/usr/local/lib/python3.7/dist-packages/tensorflow/python/eager/execute.py\u001b[0m in \u001b[0;36mquick_execute\u001b[0;34m(op_name, num_outputs, inputs, attrs, ctx, name)\u001b[0m\n\u001b[1;32m     58\u001b[0m     \u001b[0mctx\u001b[0m\u001b[0;34m.\u001b[0m\u001b[0mensure_initialized\u001b[0m\u001b[0;34m(\u001b[0m\u001b[0;34m)\u001b[0m\u001b[0;34m\u001b[0m\u001b[0;34m\u001b[0m\u001b[0m\n\u001b[1;32m     59\u001b[0m     tensors = pywrap_tfe.TFE_Py_Execute(ctx._handle, device_name, op_name,\n\u001b[0;32m---> 60\u001b[0;31m                                         inputs, attrs, num_outputs)\n\u001b[0m\u001b[1;32m     61\u001b[0m   \u001b[0;32mexcept\u001b[0m \u001b[0mcore\u001b[0m\u001b[0;34m.\u001b[0m\u001b[0m_NotOkStatusException\u001b[0m \u001b[0;32mas\u001b[0m \u001b[0me\u001b[0m\u001b[0;34m:\u001b[0m\u001b[0;34m\u001b[0m\u001b[0;34m\u001b[0m\u001b[0m\n\u001b[1;32m     62\u001b[0m     \u001b[0;32mif\u001b[0m \u001b[0mname\u001b[0m \u001b[0;32mis\u001b[0m \u001b[0;32mnot\u001b[0m \u001b[0;32mNone\u001b[0m\u001b[0;34m:\u001b[0m\u001b[0;34m\u001b[0m\u001b[0;34m\u001b[0m\u001b[0m\n",
            "\u001b[0;31mKeyboardInterrupt\u001b[0m: "
          ]
        }
      ]
    }
  ]
}